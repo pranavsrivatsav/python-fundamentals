{
 "cells": [
  {
   "cell_type": "markdown",
   "metadata": {},
   "source": [
    "### Date and Time in python\n",
    "#### Flash note index:\n",
    "- package to use for date and time operations\n",
    "- get current time\n",
    "- access different properties from time object\n",
    "- create specific time object using constructor\n",
    "- format time to string\n",
    "- parse string to time\n",
    "- performing date and time arithmetic using timedelta module from datetime package\n",
    "- handling timezones using external package pytz\n",
    "- creating and working with date and time objects\n",
    "- Performing time delays"
   ]
  },
  {
   "cell_type": "markdown",
   "metadata": {},
   "source": [
    "#### 1. Package to import for working with date and time objects"
   ]
  },
  {
   "cell_type": "code",
   "execution_count": 1,
   "metadata": {},
   "outputs": [],
   "source": [
    "import datetime"
   ]
  },
  {
   "cell_type": "markdown",
   "metadata": {},
   "source": [
    "#### 2. Get current Date and Time"
   ]
  },
  {
   "cell_type": "code",
   "execution_count": 2,
   "metadata": {},
   "outputs": [
    {
     "name": "stdout",
     "output_type": "stream",
     "text": [
      "2025-01-16 15:36:19.296545\n"
     ]
    }
   ],
   "source": [
    "currentDateTime = datetime.datetime.now()\n",
    "print(currentDateTime)"
   ]
  },
  {
   "cell_type": "markdown",
   "metadata": {},
   "source": [
    "#### 3. Accessing properties from a dateTime object"
   ]
  },
  {
   "cell_type": "code",
   "execution_count": null,
   "metadata": {},
   "outputs": [
    {
     "name": "stdout",
     "output_type": "stream",
     "text": [
      "2025\n",
      "1\n",
      "16\n",
      "15\n",
      "36\n",
      "19\n",
      "296545\n"
     ]
    }
   ],
   "source": [
    "print(currentDateTime.year)\n",
    "print(currentDateTime.month)\n",
    "print(currentDateTime.day)\n",
    "print(currentDateTime.hour)\n",
    "print(currentDateTime.minute)\n",
    "print(currentDateTime.second)\n",
    "print(currentDateTime.microsecond)"
   ]
  },
  {
   "cell_type": "markdown",
   "metadata": {},
   "source": [
    "#### 4. Create a date time object for a specific date and time using datetime constructor\n",
    "- year, month and day are mandatory parameters for the constructor\n",
    "- can be further fine tuned with optional arguments hour, minute, second and microsecond"
   ]
  },
  {
   "cell_type": "code",
   "execution_count": 8,
   "metadata": {},
   "outputs": [
    {
     "name": "stdout",
     "output_type": "stream",
     "text": [
      "2024-12-25 00:00:00\n",
      "2024-12-25 12:00:00\n",
      "2024-12-25 12:30:00.002000\n"
     ]
    }
   ],
   "source": [
    "demoDateTime = datetime.datetime(year=2024, month=12, day=25)\n",
    "demoDateTime1 = datetime.datetime(year=2024, month=12, day=25, hour=12)\n",
    "demoDateTime2 = datetime.datetime(year=2024, month=12, day=25, hour=12, minute=30, microsecond=2000)\n",
    "print(demoDateTime)\n",
    "print(demoDateTime1)\n",
    "print(demoDateTime2)"
   ]
  },
  {
   "cell_type": "markdown",
   "metadata": {},
   "source": [
    "#### 5. Format Time to String\n",
    "- done using the datetime method strftime"
   ]
  },
  {
   "cell_type": "code",
   "execution_count": 14,
   "metadata": {},
   "outputs": [
    {
     "name": "stdout",
     "output_type": "stream",
     "text": [
      "2024 12 25 12:30:00\n",
      "24 12 25 12:30:00\n",
      "2024-12-25 12:30:00\n"
     ]
    }
   ],
   "source": [
    "formattedDateTimeString = datetime.datetime.strftime(demoDateTime2, \"%Y %m %d %H:%M:%S\")\n",
    "formattedDateTimeString2 = datetime.datetime.strftime(demoDateTime2, \"%y %m %d %H:%M:%S\")\n",
    "formattedDateTimeString3 = datetime.datetime.strftime(demoDateTime2, \"%Y-%m-%d %H:%M:%S\")\n",
    "\n",
    "# %Y - year with century - 2024\n",
    "# %y - year without century - 24\n",
    "\n",
    "print(formattedDateTimeString)\n",
    "print(formattedDateTimeString2)\n",
    "print(formattedDateTimeString3)"
   ]
  },
  {
   "cell_type": "markdown",
   "metadata": {},
   "source": [
    "#### 6. Parse string to time\n",
    "- done using the datetime method strptime"
   ]
  },
  {
   "cell_type": "code",
   "execution_count": 18,
   "metadata": {},
   "outputs": [
    {
     "name": "stdout",
     "output_type": "stream",
     "text": [
      "2024-12-25 12:30:00\n",
      "2024-12-25 12:30:00\n",
      "2024\n"
     ]
    }
   ],
   "source": [
    "print(formattedDateTimeString3)\n",
    "parsedDateTime = datetime.datetime.strptime(formattedDateTimeString3, \"%Y-%m-%d %H:%M:%S\")\n",
    "\n",
    "print(parsedDateTime)\n",
    "print(parsedDateTime.year)"
   ]
  },
  {
   "cell_type": "markdown",
   "metadata": {},
   "source": [
    "#### 7. Date and Time Arithmetic\n",
    "- performed using the timeDelta module of dateTime package \n",
    "    - can add, subtract to a datetime object with units ranging from days to seconds.\n",
    "- Further we can use the - operator to find the difference between 2 dateTime objects"
   ]
  },
  {
   "cell_type": "code",
   "execution_count": 25,
   "metadata": {},
   "outputs": [
    {
     "name": "stdout",
     "output_type": "stream",
     "text": [
      "2025-01-26 16:05:17.535287\n",
      "2025-01-06 16:05:17.535287\n",
      "2025-01-16 17:35:17.535287\n",
      "2025-01-17 17:06:18.535287\n",
      "1 day, 1:01:01\n"
     ]
    }
   ],
   "source": [
    "td = datetime.timedelta\n",
    "\n",
    "sampleDateTime = datetime.datetime.now()\n",
    "\n",
    "# Add 10 days\n",
    "print(sampleDateTime + td(days=10))\n",
    "\n",
    "# Minus 10 days\n",
    "print(sampleDateTime - td(days=10))\n",
    "\n",
    "# Add 1.5 hours\n",
    "print(sampleDateTime + td(hours=1.5))\n",
    "\n",
    "# Add 1 day 1 hour 1 minute 1 second\n",
    "newDateTime = sampleDateTime + td(days=1, hours=1, minutes=1, seconds=1)\n",
    "print(newDateTime)\n",
    "\n",
    "# Find difference\n",
    "difference = (\n",
    "    (sampleDateTime - newDateTime)\n",
    "    if sampleDateTime > newDateTime\n",
    "    else (newDateTime - sampleDateTime)\n",
    ")\n",
    "print(difference)"
   ]
  },
  {
   "cell_type": "code",
   "execution_count": null,
   "metadata": {},
   "outputs": [],
   "source": []
  }
 ],
 "metadata": {
  "kernelspec": {
   "display_name": "Python 3",
   "language": "python",
   "name": "python3"
  },
  "language_info": {
   "codemirror_mode": {
    "name": "ipython",
    "version": 3
   },
   "file_extension": ".py",
   "mimetype": "text/x-python",
   "name": "python",
   "nbconvert_exporter": "python",
   "pygments_lexer": "ipython3",
   "version": "3.12.8"
  }
 },
 "nbformat": 4,
 "nbformat_minor": 2
}
