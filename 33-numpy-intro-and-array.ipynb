{
 "cells": [
  {
   "cell_type": "markdown",
   "metadata": {},
   "source": [
    "### Numpy\n",
    "\n",
    "#### 1. Introduction\n",
    "- What is Numpy?\n",
    "    - Numpy short for numerical python is a python library that is used for scientic calculations.\n",
    "- What does it offer?\n",
    "    - It helps us create and work with arrays and matrices of various dimensions in a more efficient manner than the inbuilt python array method.\n",
    "    - It provides various mathematical methods like Fourier transforms, linear algebra methods etc, which allows us to perform complex calculations.\n",
    "    - Broadcasting: This is a special feature of numpy which allows us to perform operations between arrays of varying dimensions.\n",
    "- How is it useful?\n",
    "    - It is written in C++, which makes it extremely fast.\n",
    "    - It is also integrated into other scientific python packages like scipy, pandas, which makes it an essential package to learn to work scientifically with python.\n",
    "    - It is very concise, leading to a very readable code."
   ]
  },
  {
   "cell_type": "markdown",
   "metadata": {},
   "source": [
    "#### 2. Numpy setup\n",
    "- Install Numpy using the command `py -m pip install numpy`\n",
    "- Import numpy to use in our program"
   ]
  },
  {
   "cell_type": "code",
   "execution_count": 155,
   "metadata": {},
   "outputs": [
    {
     "name": "stdout",
     "output_type": "stream",
     "text": [
      "2.2.1\n"
     ]
    }
   ],
   "source": [
    "import numpy as np\n",
    "print(np.__version__)"
   ]
  },
  {
   "cell_type": "markdown",
   "metadata": {},
   "source": [
    "#### 3. Creating Arrays"
   ]
  },
  {
   "cell_type": "code",
   "execution_count": 156,
   "metadata": {},
   "outputs": [
    {
     "name": "stdout",
     "output_type": "stream",
     "text": [
      "[1 2 3 4]\n",
      "[[1 2 3]\n",
      " [4 5 6]]\n",
      "[[[1 2 3]\n",
      "  [4 5 6]]\n",
      "\n",
      " [[1 2 3]\n",
      "  [4 5 6]]]\n"
     ]
    }
   ],
   "source": [
    "array1d = np.array([1,2,3,4])\n",
    "print(array1d)\n",
    "\n",
    "array2d = np.array([[1,2,3],[4,5,6]])\n",
    "print(array2d)\n",
    "\n",
    "array3d = np.array([[[1,2,3],[4,5,6]],[[1,2,3],[4,5,6]]])\n",
    "print(array3d)"
   ]
  },
  {
   "cell_type": "markdown",
   "metadata": {},
   "source": [
    "##### Creating random arrays"
   ]
  },
  {
   "cell_type": "code",
   "execution_count": 157,
   "metadata": {},
   "outputs": [
    {
     "name": "stdout",
     "output_type": "stream",
     "text": [
      "[[0.98674506 0.05530423 0.78053462]\n",
      " [0.18425695 0.59656217 0.16614951]\n",
      " [0.68657949 0.61472462 0.29051474]]\n",
      "[[32 23]\n",
      " [39 33]]\n",
      "[33.02289866 32.82901884 32.78387586 33.31930172 34.66213353 33.93813409\n",
      " 34.88302631 30.44533435 34.34459006 34.28632771]\n"
     ]
    }
   ],
   "source": [
    "#generate a random array with values in range [0,1) (1 exclusive) of provided size \n",
    "randArr = np.random.rand(3,3)\n",
    "print(randArr)\n",
    "\n",
    "#generate random integer array with provided range\n",
    "randIntArr = np.random.randint(low=23, high=45, size=(2,2))\n",
    "print(randIntArr)\n",
    "\n",
    "#generate random floats array with provided range\n",
    "randRangeArr = np.random.uniform(low=30, high=35, size=(10))\n",
    "print(randRangeArr)"
   ]
  },
  {
   "cell_type": "markdown",
   "metadata": {},
   "source": [
    "##### Creating arrays with incremental values using arange method"
   ]
  },
  {
   "cell_type": "code",
   "execution_count": 180,
   "metadata": {},
   "outputs": [
    {
     "name": "stdout",
     "output_type": "stream",
     "text": [
      "[1 3 5 7 9]\n",
      "[1 2 3 4 5 6 7 8 9]\n",
      "[ 0  1  2  3  4  5  6  7  8  9 10 11]\n"
     ]
    },
    {
     "ename": "",
     "evalue": "",
     "output_type": "error",
     "traceback": [
      "\u001b[1;31mThe Kernel crashed while executing code in the current cell or a previous cell. \n",
      "\u001b[1;31mPlease review the code in the cell(s) to identify a possible cause of the failure. \n",
      "\u001b[1;31mClick <a href='https://aka.ms/vscodeJupyterKernelCrash'>here</a> for more info. \n",
      "\u001b[1;31mView Jupyter <a href='command:jupyter.viewOutput'>log</a> for further details."
     ]
    }
   ],
   "source": [
    "print(np.arange(start=1, stop=10, step=2)) #stop is exclusive\n",
    "print(np.arange(start=1, stop=10, step=1)) #stop is exclusive\n",
    "print(np.arange(12)) "
   ]
  },
  {
   "cell_type": "markdown",
   "metadata": {},
   "source": [
    "##### Other inbuilt methods to generate array"
   ]
  },
  {
   "cell_type": "code",
   "execution_count": 158,
   "metadata": {},
   "outputs": [
    {
     "name": "stdout",
     "output_type": "stream",
     "text": [
      "[[1. 1. 1. 1. 1.]\n",
      " [1. 1. 1. 1. 1.]\n",
      " [1. 1. 1. 1. 1.]\n",
      " [1. 1. 1. 1. 1.]\n",
      " [1. 1. 1. 1. 1.]]\n",
      "[0. 0. 0. 0. 0. 0. 0. 0. 0. 0.]\n"
     ]
    }
   ],
   "source": [
    "print(np.ones(shape=(5,5)))\n",
    "print(np.zeros(shape=(10)))"
   ]
  },
  {
   "cell_type": "markdown",
   "metadata": {},
   "source": [
    "#### 4. Array Properties"
   ]
  },
  {
   "cell_type": "code",
   "execution_count": 159,
   "metadata": {},
   "outputs": [
    {
     "name": "stdout",
     "output_type": "stream",
     "text": [
      "[1 2 3 4]\n",
      "[[1 2 3]\n",
      " [4 5 6]]\n",
      "(4,)\n",
      "(2, 3)\n",
      "4\n",
      "6\n",
      "int64\n",
      "<U21\n",
      "<U1\n",
      "bool\n",
      "int64\n"
     ]
    }
   ],
   "source": [
    "print(array1d)\n",
    "print(array2d)\n",
    "\n",
    "#shape of the array\n",
    "print(array1d.shape)\n",
    "print(array2d.shape)\n",
    "\n",
    "#size of the array - no of elements\n",
    "print(array1d.size)\n",
    "print(array2d.size)\n",
    "\n",
    "#data type of the elements in the array\n",
    "print(array1d.dtype)\n",
    "\n",
    "# lets see what data type is returned if data types are mixed\n",
    "print(np.array([True,1,'a']).dtype) #<U21\n",
    "print(np.array(['a']).dtype) #<U1\n",
    "\n",
    "# lets see a weird behaviour for the data type returned below\n",
    "print(np.array(True).dtype) #bool\n",
    "print(np.array([True, 2]).dtype) #this returns int64 \n"
   ]
  },
  {
   "cell_type": "markdown",
   "metadata": {},
   "source": [
    "#### 5. Array Indexing"
   ]
  },
  {
   "cell_type": "code",
   "execution_count": 160,
   "metadata": {},
   "outputs": [
    {
     "name": "stdout",
     "output_type": "stream",
     "text": [
      "[1 2 3 4] 1\n",
      "[[1 2 3]\n",
      " [4 5 6]] 5\n",
      "[[[1 2 3]\n",
      "  [4 5 6]]\n",
      "\n",
      " [[1 2 3]\n",
      "  [4 5 6]]] 5\n",
      "[1 2 3 4] 4\n"
     ]
    }
   ],
   "source": [
    "print(array1d,array1d[0])\n",
    "\n",
    "print(array2d, array2d[1,1])\n",
    "\n",
    "print(array3d, array3d[0,1,1])\n",
    "\n",
    "#Negative indices works as well\n",
    "print(array1d, array1d[-1])\n"
   ]
  },
  {
   "cell_type": "markdown",
   "metadata": {},
   "source": [
    "#### 6. Array Slicing"
   ]
  },
  {
   "cell_type": "code",
   "execution_count": 161,
   "metadata": {},
   "outputs": [
    {
     "name": "stdout",
     "output_type": "stream",
     "text": [
      "[1 2 3 4]\n",
      "[2 3]\n",
      "[[1 2 3]\n",
      " [4 5 6]\n",
      " [7 8 9]]\n",
      "[4 5 6]\n",
      "[1 4 7]\n",
      "[5 8]\n",
      "[[[1 2 3]\n",
      "  [4 5 6]]\n",
      "\n",
      " [[1 2 3]\n",
      "  [4 5 6]]]\n",
      "[2 2]\n",
      "[[4 5 6]\n",
      " [4 5 6]]\n",
      "[[2 3]\n",
      " [2 3]]\n"
     ]
    }
   ],
   "source": [
    "print(array1d)\n",
    "print(array1d[1:3]) #start = 1, end = 3 (end index is exclusive)\n",
    "\n",
    "\n",
    "#Getting rows and columns, and other sub arrays by slicing higher dimensional arrays\n",
    "array2d = np.array([[1,2,3],[4,5,6],[7,8,9]])\n",
    "print(array2d)\n",
    "print(array2d[1,:]) #second row - slice the second row with all the columns\n",
    "print(array2d[:,0]) #first column - slice all rows of the 0 index column\n",
    "print(array2d[-2:,1]) #middle column only last 2 rows - slice last 2 rows and only of the middle column\n",
    "\n",
    "print(array3d)\n",
    "print(array3d[:,0,1]) #capture from 3d array the second column element of the first row, from all the available matrices\n",
    "print(array3d[:,-1,:]) #capture final rows from all the matrices stored in 3d array\n",
    "print(array3d[:,0,1:3]) #capture 2nd and 3rd col of the first row from all the matrices stored in 3d array"
   ]
  },
  {
   "cell_type": "markdown",
   "metadata": {},
   "source": [
    "#### 7. Array Operations\n",
    "\n",
    "##### Arithmetic Operations\n",
    "-  we can perform arithmetic operations like addition, subtraction, multiplication and division between the arrays\n",
    "\n"
   ]
  },
  {
   "cell_type": "code",
   "execution_count": 162,
   "metadata": {},
   "outputs": [
    {
     "name": "stdout",
     "output_type": "stream",
     "text": [
      "[ 3  8 15]\n",
      "[[ 1  4  9]\n",
      " [16 25 36]]\n"
     ]
    }
   ],
   "source": [
    "arr1 = np.array([1,2,3])\n",
    "arr2 = np.array([3,4,5])\n",
    "\n",
    "\"\"\"\n",
    "if elements are of same shape, the corresponding elements at the same index in the two array objects \n",
    "are multiplied and we in return get an array of the same shape with the products\n",
    "\"\"\"\n",
    "print(arr1 * arr2)\n",
    "\n",
    "arr2d1 = np.array([[1,2,3],[4,5,6]])\n",
    "print(arr2d1 * arr2d1)\n",
    "\n",
    "#Similarly we can do rest of the operations on the arrays\n",
    "\n",
    "#For the sake of experimentation, let's see how arithmetic operations on arrays of different shapes react\n",
    "arr1 = np.array([1,2])\n",
    "arr2 = np.array([4,5,6,7])\n",
    "\n",
    "# print(arr1 * arr2) #operands could not be broadcast together with shapes (2,) (4,) "
   ]
  },
  {
   "cell_type": "markdown",
   "metadata": {},
   "source": [
    "\n",
    "##### Scalar Operations\n",
    "- Operations with scalar operators aka single numbers"
   ]
  },
  {
   "cell_type": "code",
   "execution_count": 163,
   "metadata": {},
   "outputs": [
    {
     "name": "stdout",
     "output_type": "stream",
     "text": [
      "[1 2]\n",
      "[ 8 16]\n",
      "[4 5 6 7]\n",
      "[-6 -5 -4 -3]\n",
      "['ac' 'bc' 'cc']\n"
     ]
    }
   ],
   "source": [
    "\n",
    "print(arr1)\n",
    "print(arr1 * 8)\n",
    "\n",
    "print(arr2)\n",
    "print(arr2 - 10)\n",
    "\n",
    "#For the sake of experimentation, let's try to do a scalar addition on an array of strings\n",
    "strarr = np.array(['a','b','c'])\n",
    "print(strarr + 'c') #Hey it works - it concatenates"
   ]
  },
  {
   "cell_type": "markdown",
   "metadata": {},
   "source": [
    "#### 8. numpy operations on string arrays (To be covered later)"
   ]
  },
  {
   "cell_type": "markdown",
   "metadata": {},
   "source": [
    "#### 9. Ufuncs (Universal functions)\n",
    "- numpy provides a vast number of universal functions that perform mathematical operations on the arrays\n",
    "- The different categories of Ufuncs are as follows:\n",
    "\n",
    "##### Arithmetic uFuncs\n"
   ]
  },
  {
   "cell_type": "code",
   "execution_count": 164,
   "metadata": {},
   "outputs": [
    {
     "name": "stdout",
     "output_type": "stream",
     "text": [
      "[4 6]\n",
      "[4 6]\n",
      "[0 4]\n",
      "[0.3345    4.4353525]\n",
      "[  1 256]\n"
     ]
    }
   ],
   "source": [
    "#we can provide the arguments as direct arrays or as numpy arrays\n",
    "print(np.add([1,2], [3,4]))\n",
    "print(np.add(np.array([1,2]), np.array([3,4])))\n",
    "\n",
    "#modulus\n",
    "print(np.mod([5,34],5))\n",
    "\n",
    "#for more precise modulus on float values\n",
    "print(np.fmod([5.3345,34.4353525],5))\n",
    "\n",
    "#power\n",
    "print(np.pow([1,2],8))\n",
    "\n",
    "#more such functions are available for addition, subtraction etc."
   ]
  },
  {
   "cell_type": "markdown",
   "metadata": {},
   "source": [
    "\n",
    "##### Trignometric uFuncs\n"
   ]
  },
  {
   "cell_type": "code",
   "execution_count": 165,
   "metadata": {},
   "outputs": [
    {
     "name": "stdout",
     "output_type": "stream",
     "text": [
      "[0. 1.]\n",
      "[1.000000e+00 6.123234e-17]\n",
      "[0.00000000e+00 1.63312394e+16]\n"
     ]
    }
   ],
   "source": [
    "print(np.sin([0, np.pi/2]))\n",
    "print(np.cos([0, np.pi/2]))\n",
    "print(np.tan([0, np.pi/2]))"
   ]
  },
  {
   "cell_type": "markdown",
   "metadata": {},
   "source": [
    "\n",
    "##### Exponentiation and Logarithmic uFuncs (not that important, but just know it's there)\n",
    "\n",
    "##### Comparison uFuncs"
   ]
  },
  {
   "cell_type": "code",
   "execution_count": 166,
   "metadata": {},
   "outputs": [
    {
     "name": "stdout",
     "output_type": "stream",
     "text": [
      "[False  True]\n",
      "[[ True  True]\n",
      " [ True False]]\n",
      "[ True  True]\n",
      "[ True  True]\n"
     ]
    }
   ],
   "source": [
    "# checks if corresponding element of array 1 greater than array2\n",
    "print(np.greater([1, 5], [3, 4]))\n",
    "\n",
    "print(np.less([[1, 2], [3, 4]], [[5, 6], [7, 1]]))\n",
    "\n",
    "print(np.equal([1,2],[1,2]))\n",
    "\n",
    "print(np.greater_equal([4,5],[4,3]))\n",
    "\n",
    "#and some more useful comparison operators are available"
   ]
  },
  {
   "cell_type": "markdown",
   "metadata": {},
   "source": [
    "\n",
    "##### Statistical uFuncs\n",
    "- To extract statistical information from an array, or perform cumulative calculation on an array"
   ]
  },
  {
   "cell_type": "code",
   "execution_count": 167,
   "metadata": {},
   "outputs": [
    {
     "name": "stdout",
     "output_type": "stream",
     "text": [
      "24\n",
      "2.5\n",
      "2.5\n",
      "4\n",
      "1\n",
      "10\n"
     ]
    }
   ],
   "source": [
    "print(np.prod([1,2,3,4]))\n",
    "print(np.mean([1,2,3,4]))\n",
    "print(np.median([1,2,3,4]))\n",
    "print(np.max([1,2,3,4]))\n",
    "print(np.min([1,2,3,4]))\n",
    "print(np.sum([1,2,3,4]))\n",
    "\n",
    "#And more such statistical functions are available"
   ]
  },
  {
   "cell_type": "markdown",
   "metadata": {},
   "source": [
    "##### Set uFuncs\n",
    "- perform set related operation on arrays\n"
   ]
  },
  {
   "cell_type": "code",
   "execution_count": 168,
   "metadata": {},
   "outputs": [
    {
     "name": "stdout",
     "output_type": "stream",
     "text": [
      "[1 2 3 4]\n",
      "[ 1  2  3  4 42 56]\n",
      "[1 2 3 4 5 6]\n",
      "[1]\n"
     ]
    }
   ],
   "source": [
    "#Removes duplicates from an array\n",
    "print(np.unique([1,2,3,4,1]))\n",
    "#if higher dimension array, unique function will flatten the array and perform the unique operation\n",
    "print(np.unique([[1,2,3,4,1],[1,2,3,56,42]]))\n",
    "\n",
    "#union for 1dimensional array\n",
    "print(np.union1d([1,2,3],[4,5,6]))\n",
    "\n",
    "#intersection for 1d array\n",
    "print(np.intersect1d([1,2,3],[4,5,6,1]))"
   ]
  },
  {
   "cell_type": "markdown",
   "metadata": {},
   "source": [
    "##### Other useful uFuncs"
   ]
  },
  {
   "cell_type": "code",
   "execution_count": 169,
   "metadata": {},
   "outputs": [
    {
     "name": "stdout",
     "output_type": "stream",
     "text": [
      "[  1.4455  345.34534   4.     ]\n",
      "[-1  1  1 -1]\n",
      "[40 45 49 50]\n"
     ]
    }
   ],
   "source": [
    "#Generates absolute value, removes negative symbol\n",
    "print(np.abs([-1.4455,345.34534,-4]))\n",
    "\n",
    "#Generates indication based on positive(1) or negative(-1) values \n",
    "print(np.sign([-1,1,98,-9]))\n",
    "\n",
    "\n",
    "#clip the array to the provided min and max range\n",
    "#if below, clips to min\n",
    "#if above, clips to max\n",
    "print(np.clip(a=[1,45,49,99], min=40, max=50)) "
   ]
  },
  {
   "cell_type": "markdown",
   "metadata": {},
   "source": [
    "#### 10. Broadcasting\n",
    "- Broadcasting is nothing but numpy intelligently reshaping arrays during mathematical operation when there a arrays of disimilar operations involved in the operation"
   ]
  },
  {
   "cell_type": "code",
   "execution_count": 170,
   "metadata": {},
   "outputs": [
    {
     "name": "stdout",
     "output_type": "stream",
     "text": [
      "[11 12 13]\n"
     ]
    }
   ],
   "source": [
    "arr1 = [1,2,3]\n",
    "arr2 = [10]\n",
    "\n",
    "print(np.add(arr1, arr2)) #output: [11, 12, 13] \n",
    "# the second array [10] is automatically reshaped implicitly to [10,10,10] during the operation"
   ]
  },
  {
   "cell_type": "markdown",
   "metadata": {},
   "source": [
    "##### Rules of broadcasting\n",
    "1. shape compatibility: \n",
    "    - The arrays must have the same rank (i.e same number of dimensions)\n",
    "    - The dimensions of the arrays must be compatible\n",
    "        - Equal dimensions\n",
    "        - One of the dimension must have a size 1\n",
    "2. Implicit expansion:\n",
    "    - If the array does not have equal dimensions, then the array with dimension 1 is stretched by padding the remaning values with that to the left.\n",
    "\n",
    "Note: During broadcasting, the smaller array is stretched, but the values are not copied, so the calculations are efficient. (Need better understanding on this)\n",
    "\n",
    "##### More examples of broadcasting"
   ]
  },
  {
   "cell_type": "code",
   "execution_count": 171,
   "metadata": {},
   "outputs": [
    {
     "name": "stdout",
     "output_type": "stream",
     "text": [
      "[[11 22 33]\n",
      " [14 25 36]]\n"
     ]
    }
   ],
   "source": [
    "\n",
    "arr1 = [[1, 2, 3], [4, 5, 6]]\n",
    "arr2 = [10, 20, 30]\n",
    "\n",
    "\"\"\"\n",
    "For the above arrays, let's examine if they adhere to the rules of broadcasting\n",
    "- shape of arr1: (2,3)\n",
    "- shape of arr2: (3) - this can also be imagined as (1,3) 1 row with 3 columns\n",
    "\n",
    "There's a tip to reimagine shapes of arrays with lower dimensions,\n",
    "- if you want to reimagine a dimension of (3) into a 2 dimensional array, \n",
    "- push the available dimension size to the right most place, and pad the remaining with 1\n",
    "- so (3) in 2 dimensions becomes (1,3)\n",
    "- similarly (3) in 3 dimensions becomes (1,1,3)\n",
    "\n",
    "Let's first check if the arrays are compatible based on the broadcasting rules:\n",
    " - Shape compatibility:\n",
    "    - Are the ranks same? \n",
    "        - The ranks are same, (2,3) and (1,3)\n",
    "    - Are the dimensions equal?\n",
    "        - No, then is atleast one of the dimension size 1?\n",
    "            - Yes, arr2 has a dimension with size 1.\n",
    "\n",
    "- Implicit expansion:\n",
    "    - The dimensions are not equal, the padding will be done along the dimension, which has size 1.\n",
    "    - so now our arr2 which is [[10, 20, 30]] will be stretched by padding with the value to the left, \n",
    "    - [[10,20,30],[<padded value copied from the left>]] which now becomes [[10,20,30],[10,20,30]]\n",
    "\"\"\"\n",
    "\n",
    "print(np.add(arr1, arr2))\n",
    "\n",
    "# Now let's check the compatibility of the below array with another arr1\n",
    "arr3 = [100, 200]  # shape is (2) - can be imagined in 2 dimensions as (1,2)\n",
    "\n",
    "# As per the rules of broadcasting arr1(2,3) and arr2(1,2) are not compatible, so an error is thrown\n",
    "#print(np.add(arr1, arr3)) #ValueError: operands could not be broadcast together with shapes (2,3) (2,) "
   ]
  },
  {
   "cell_type": "code",
   "execution_count": 172,
   "metadata": {},
   "outputs": [
    {
     "name": "stdout",
     "output_type": "stream",
     "text": [
      "[[11 12]\n",
      " [22 23]\n",
      " [34 35]]\n",
      "[[20 30 40]\n",
      " [30 40 50]\n",
      " [40 50 60]]\n"
     ]
    }
   ],
   "source": [
    "arr1 = [[1, 2], [2, 3], [4, 5]]  # shape (3,2)\n",
    "arr2 = [[10], [20], [30]]  # shape (3,1) - compatible with arr1\n",
    "arr3 = [10, 20, 30]  # shape (3) imagined as (1,3) - incompatible with arr1\n",
    "\n",
    "# so now arr2 is implicitly expanded from [[10],[20],[30]] to [[10,10],[20,20],[30,30]]\n",
    "# as the expansion happens in the dimension of size 1, which is the column dimension,\n",
    "# and padded using the value to the left\n",
    "\n",
    "#so implicitly addition takes place between [[1, 2], [2, 3], [4, 5]] and [[10,10],[20,20],[30,30]]\n",
    "print(np.add(arr1, arr2))\n",
    "\n",
    "#and let's confirm the incompatibility between arr1 and arr3\n",
    "# print(np.add(arr1, arr3)) #ValueError: operands could not be broadcast together with shapes (3,2) (3,) \n",
    "\n",
    "\"\"\"\n",
    "Now let's see the shapes of arr2(3,1) and arr3(1,3) - they are compatible\n",
    "But here the padding will happen in both arr2 and arr3, as they are matched to the shape of (3,3)\n",
    "in arr2, the padding will happen in the column\n",
    "    - arr2 [[10], [20], [30]] will become [[10,10,10],[20,20,20],[30,30,30]]\n",
    "in arr1, the padding will happen in the row\n",
    "    - arr1 [10,20,30] will become [[10,20,30],[10,20,30], [10,20,30]]\n",
    "\"\"\"\n",
    "\n",
    "#So, here the addition takes place between  [[10,10,10],[20,20,20],[30,30,30]] and [[10,20,30],[10,20,30], [10,20,30]]\n",
    "print(np.add(arr2, arr3))"
   ]
  },
  {
   "cell_type": "markdown",
   "metadata": {},
   "source": [
    "#### 11. Array reshaping\n",
    "- NOTE: Array reshaping can only be applied on numpy arrays\n",
    "- Below are the 2 main functions used for array reshaping\n",
    "- `reshape()`:\n",
    "    - Used to reshape an array\n",
    "    - arguments provided is the dimension\n",
    "    - only rule: the size of the array (i.e total no of elements) must remain the same post reshaping\n",
    "    - returns the reshaped array, does not change the shape of the array on which this function is called\n",
    "- `ravel()`:\n",
    "    - used to flatten any array into a 1d array"
   ]
  },
  {
   "cell_type": "markdown",
   "metadata": {},
   "source": [
    "##### reshape\n"
   ]
  },
  {
   "cell_type": "code",
   "execution_count": 176,
   "metadata": {},
   "outputs": [
    {
     "name": "stdout",
     "output_type": "stream",
     "text": [
      "[[10]\n",
      " [20]\n",
      " [30]]\n",
      "[[1 2 3]\n",
      " [4 5 6]]\n"
     ]
    }
   ],
   "source": [
    "arr1 = np.array([10,20,30])\n",
    "print(arr1.reshape(3,1)) #returns the reshaped array, arr1 is not changed\n",
    "\n",
    "arr2 = np.array([[1,2],[3,4],[5,6]])\n",
    "print(arr2.reshape(2,3))\n"
   ]
  },
  {
   "cell_type": "markdown",
   "metadata": {},
   "source": [
    "##### ravel"
   ]
  },
  {
   "cell_type": "code",
   "execution_count": 177,
   "metadata": {},
   "outputs": [
    {
     "name": "stdout",
     "output_type": "stream",
     "text": [
      "[[1 2]\n",
      " [3 4]\n",
      " [5 6]]\n",
      "[1 2 3 4 5 6]\n"
     ]
    }
   ],
   "source": [
    "print(arr2)\n",
    "print(arr2.ravel())"
   ]
  },
  {
   "cell_type": "markdown",
   "metadata": {},
   "source": [
    "\n",
    "##### ravel"
   ]
  }
 ],
 "metadata": {
  "kernelspec": {
   "display_name": "Python 3",
   "language": "python",
   "name": "python3"
  },
  "language_info": {
   "codemirror_mode": {
    "name": "ipython",
    "version": 3
   },
   "file_extension": ".py",
   "mimetype": "text/x-python",
   "name": "python",
   "nbconvert_exporter": "python",
   "pygments_lexer": "ipython3",
   "version": "3.12.8"
  }
 },
 "nbformat": 4,
 "nbformat_minor": 2
}
