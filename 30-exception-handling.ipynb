{
 "cells": [
  {
   "cell_type": "markdown",
   "metadata": {},
   "source": [
    "### Exception handling in python\n"
   ]
  },
  {
   "cell_type": "markdown",
   "metadata": {},
   "source": [
    "#### Code blocks of an exception handled code (order below has to be preserved)\n",
    "- try: code block which is wrapped for exception handling.\n",
    "- except: code block to handle exceptions.\n",
    "- else (optional): code block to run if no exceptions occur.\n",
    "- finally (optional): code block to run regardless of whether exceptions have occured or not."
   ]
  },
  {
   "cell_type": "markdown",
   "metadata": {},
   "source": [
    "##### Example of a exception handled code"
   ]
  },
  {
   "cell_type": "code",
   "execution_count": 32,
   "metadata": {},
   "outputs": [],
   "source": [
    "def tryCatchSample(num):\n",
    "    try:\n",
    "        res = 1 / num\n",
    "    except Exception as e:\n",
    "        print(\"An exception occured: \", e)\n",
    "    else: \n",
    "        print(\"No exception occured, result is \", res)\n",
    "    finally:\n",
    "        print(\"The final block\")"
   ]
  },
  {
   "cell_type": "markdown",
   "metadata": {},
   "source": [
    "- Now let's try to manually initiate an exception."
   ]
  },
  {
   "cell_type": "code",
   "execution_count": 33,
   "metadata": {},
   "outputs": [
    {
     "name": "stdout",
     "output_type": "stream",
     "text": [
      "An exception occured:  division by zero\n",
      "The final block\n"
     ]
    }
   ],
   "source": [
    "tryCatchSample(0)\n"
   ]
  },
  {
   "cell_type": "markdown",
   "metadata": {},
   "source": [
    "- Now let's try to run without initiating an exception"
   ]
  },
  {
   "cell_type": "code",
   "execution_count": 34,
   "metadata": {},
   "outputs": [
    {
     "name": "stdout",
     "output_type": "stream",
     "text": [
      "No exception occured, result is  0.5\n",
      "The final block\n"
     ]
    }
   ],
   "source": [
    "tryCatchSample(2)"
   ]
  },
  {
   "cell_type": "markdown",
   "metadata": {},
   "source": [
    "#### Common exception types\n",
    "- ZeroDivisionError\n",
    "- IndexError: index out of bound in iterative datatypes\n",
    "- ValueError: when a value provided to a function argument is of correct type, but inappropriate value\n",
    "- TypeError: When an operation or function is applied to an object of inappropriate type\n",
    "- FileNotFoundError: Trying to read a non existent file\n",
    "- keyError: Trying to directly access a key inside a dictionary that does not exist"
   ]
  },
  {
   "cell_type": "code",
   "execution_count": 37,
   "metadata": {},
   "outputs": [
    {
     "name": "stdout",
     "output_type": "stream",
     "text": [
      "zero division error: division by zero\n",
      "finally block\n",
      "\n",
      "1.0\n",
      "index error: list index out of range\n",
      "finally block\n"
     ]
    }
   ],
   "source": [
    "def tryCatchNested(num = 0):\n",
    "    try:\n",
    "        data = []\n",
    "        print(1/num)\n",
    "        print(data[num])\n",
    "    except ZeroDivisionError as e:\n",
    "        print(\"zero division error:\", e)\n",
    "    except IndexError as e:\n",
    "        print(\"index error:\", e)\n",
    "    except Exception as e:\n",
    "        print(\"An exception occured:\", e)\n",
    "    else:\n",
    "        print(\"NO error occured\")\n",
    "    finally:\n",
    "        print(\"finally block\")\n",
    "    \n",
    "tryCatchNested()\n",
    "print()\n",
    "tryCatchNested(1)"
   ]
  },
  {
   "cell_type": "markdown",
   "metadata": {},
   "source": [
    "#### Create and throw a custom exception"
   ]
  },
  {
   "cell_type": "markdown",
   "metadata": {},
   "source": [
    "##### Create a custom exception"
   ]
  },
  {
   "cell_type": "code",
   "execution_count": 41,
   "metadata": {},
   "outputs": [],
   "source": [
    "class customError(Exception): \n",
    "    def __init__(self, message):\n",
    "        defaultErrorMessage = \"Default customerror message\"\n",
    "        message = message if message else defaultErrorMessage\n",
    "        self.message = message\n",
    "        super().__init__(self.message) #Initializing by calling the inbuilt Exception class's initialization message"
   ]
  },
  {
   "cell_type": "markdown",
   "metadata": {},
   "source": [
    "##### Raise the custom exception"
   ]
  },
  {
   "cell_type": "code",
   "execution_count": 43,
   "metadata": {},
   "outputs": [
    {
     "name": "stdout",
     "output_type": "stream",
     "text": [
      "raising the custom exception\n",
      "Exception occured: Default customerror message\n",
      "\n",
      "raising the custom exception\n",
      "Exception occured: overridden error message\n"
     ]
    }
   ],
   "source": [
    "def raiseCustomError(message = None):\n",
    "    try:\n",
    "        print(\"raising the custom exception\")\n",
    "        raise customError(message)\n",
    "    except customError as e:\n",
    "        print(\"Exception occured:\", e)\n",
    "\n",
    "raiseCustomError()\n",
    "print()\n",
    "raiseCustomError(\"overridden error message\")\n"
   ]
  }
 ],
 "metadata": {
  "kernelspec": {
   "display_name": "Python 3",
   "language": "python",
   "name": "python3"
  },
  "language_info": {
   "codemirror_mode": {
    "name": "ipython",
    "version": 3
   },
   "file_extension": ".py",
   "mimetype": "text/x-python",
   "name": "python",
   "nbconvert_exporter": "python",
   "pygments_lexer": "ipython3",
   "version": "3.12.8"
  }
 },
 "nbformat": 4,
 "nbformat_minor": 2
}
