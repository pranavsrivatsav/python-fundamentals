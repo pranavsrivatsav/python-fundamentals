{
 "cells": [
  {
   "cell_type": "markdown",
   "metadata": {},
   "source": [
    "#### Resources:\n",
    "- [Reference video](https://www.youtube.com/watch?v=dIUTsFT2MeQ&list=PLUorQzJgGyjFMESZTXl_6ZPYLnwG2EDvm&index=4)\n",
    "- [Reference book](https://spacy.pythonhumanities.com/intro.html)\n",
    "\n",
    "#### NLP v/s NLU\n",
    "##### NLP\n",
    "- NLP is processing the input to process the text from the strict specs of a language.\n",
    "- In NLP, we try to gather all the possible units to place the input in a structure, that can be understood by more intelligent language models to weave their magic with this derived structure. \n",
    "- It performs an array of functions which includes:\n",
    "    - NER (Named Entity Recognition)\n",
    "    - syntax parsing\n",
    "    - POS\n",
    "    - Text categorization\n",
    "\n",
    "##### NLU\n",
    "- NLU is an attempt to humanize the language, trying to understand the language from a more human point of view.\n",
    "- It performs functions like:\n",
    "    - semantic parsing (understanding the context)\n",
    "    - question & answering (important in bots)\n",
    "    - sentiment analysis\n",
    "    - paraphrasing\n",
    "    - summarization\n",
    "\n",
    "#### SPACY Intro\n",
    "- What is spaCY?\n",
    "    - It is a python framework used to implement NLP.\n",
    "- why spaCY?\n",
    " - It comes with off the shelf models that are quick and precise, we as a developer don't need to tweak too much to get the best performance out of it.\n",
    " - It can use the latest transformer models.\n",
    " - Easier to perform custom trainer relative to other NLP frameworks\n",
    " - It is scalable, i.e it works well with real world data that are large in nature and are ever growing.\n",
    "\n",
    "\n",
    "#### SPACY installation and setup\n",
    "- site\n",
    "- commands\n",
    "\n",
    "\n"
   ]
  },
  {
   "cell_type": "code",
   "execution_count": 1,
   "metadata": {},
   "outputs": [],
   "source": [
    "import spacy"
   ]
  },
  {
   "cell_type": "code",
   "execution_count": 2,
   "metadata": {},
   "outputs": [],
   "source": [
    "#check whether all the resources of spacy is loaded correctly\n",
    "nlp = spacy.load(\"en_core_web_sm\")"
   ]
  },
  {
   "cell_type": "markdown",
   "metadata": {},
   "source": [
    "#### Containers\n",
    "- containers - what is a container in a spacy?\n",
    "- different types of containers in spacy\n",
    "\n",
    "##### Doc"
   ]
  },
  {
   "cell_type": "code",
   "execution_count": 3,
   "metadata": {},
   "outputs": [
    {
     "name": "stdout",
     "output_type": "stream",
     "text": [
      "The U.S.A. (United States of America), commonly known as the USA, is a vast and diverse nation located in N. America. It is composed of 50 states, each with its own unique culture, geography, and attractions. From the bustling streets of NYC (New York City) to the serene landscapes of the Grand Canyon, the USA offers a wide range of experiences for both residents and visitors. The country is known for its rich history, which includes significant events such as the Am. Revolution, the Civil War, and the Civil Rights Movement.\n",
      "\n",
      "The USA is a melting pot of cultures, with people from all over the world contributing to its vibrant society. This cultural diversity is reflected in the nation's cuisine, music, art, and festivals. Cities like L.A. (Los Angeles), Miami, and Chicago are renowned for their cultural scenes, offering everything from world-class museums to lively music festivals. The Am. Dream, the idea that anyone can achieve success through hard work and determination, continues to attract immigrants seeking new opportunities.\n",
      "\n",
      "Economically, the USA is one of the world's leading powers. It boasts a highly developed economy with a strong emphasis on innovation, tech, and entrepreneurship. Silicon Valley in Calif. is a global hub for tech companies and startups, while Wall Street in NYC is synonymous with finance and investment. The country's diverse economy also includes significant contributions from industries such as agriculture, manufacturing, and healthcare.\n",
      "\n",
      "Politically, the USA operates as a federal republic with a strong emphasis on democratic principles. The govt. is divided into three branches: the executive, led by the Pres.; the legislative, consisting of Congress; and the judicial, headed by the Sup. Court. The Constitution, the supreme law of the land, outlines the framework for governance and protects the rights and freedoms of Am. citizens. The country's political landscape is characterized by a dynamic and often contentious interplay of ideas and ideologies.\n",
      "\n",
      "The natural beauty of the USA is awe-inspiring, with a variety of landscapes ranging from majestic mountains to pristine beaches. Nat. parks such as Yellowstone, Yosemite, and the Great Smoky Mountains attract millions of visitors each year, offering opportunities for hiking, camping, and wildlife viewing. The country's diverse climate ensures that there is something for everyone, whether you prefer the sunny shores of Calif. or the snowy peaks of Colo. The USA's commitment to preserving its natural heritage ensures that future generations can continue to enjoy its breathtaking scenery.\n"
     ]
    }
   ],
   "source": [
    "#let's take a text containing multiple paras from the file usa.txt\n",
    "with open(\"usa.txt\", \"r\") as f:\n",
    "    text = f.read()\n",
    "\n",
    "print(text)"
   ]
  },
  {
   "cell_type": "code",
   "execution_count": 4,
   "metadata": {},
   "outputs": [
    {
     "name": "stdout",
     "output_type": "stream",
     "text": [
      "The U.S.A. (United States of America), commonly known as the USA, is a vast and diverse nation located in N. America. It is composed of 50 states, each with its own unique culture, geography, and attractions. From the bustling streets of NYC (New York City) to the serene landscapes of the Grand Canyon, the USA offers a wide range of experiences for both residents and visitors. The country is known for its rich history, which includes significant events such as the Am. Revolution, the Civil War, and the Civil Rights Movement.\n",
      "\n",
      "The USA is a melting pot of cultures, with people from all over the world contributing to its vibrant society. This cultural diversity is reflected in the nation's cuisine, music, art, and festivals. Cities like L.A. (Los Angeles), Miami, and Chicago are renowned for their cultural scenes, offering everything from world-class museums to lively music festivals. The Am. Dream, the idea that anyone can achieve success through hard work and determination, continues to attract immigrants seeking new opportunities.\n",
      "\n",
      "Economically, the USA is one of the world's leading powers. It boasts a highly developed economy with a strong emphasis on innovation, tech, and entrepreneurship. Silicon Valley in Calif. is a global hub for tech companies and startups, while Wall Street in NYC is synonymous with finance and investment. The country's diverse economy also includes significant contributions from industries such as agriculture, manufacturing, and healthcare.\n",
      "\n",
      "Politically, the USA operates as a federal republic with a strong emphasis on democratic principles. The govt. is divided into three branches: the executive, led by the Pres.; the legislative, consisting of Congress; and the judicial, headed by the Sup. Court. The Constitution, the supreme law of the land, outlines the framework for governance and protects the rights and freedoms of Am. citizens. The country's political landscape is characterized by a dynamic and often contentious interplay of ideas and ideologies.\n",
      "\n",
      "The natural beauty of the USA is awe-inspiring, with a variety of landscapes ranging from majestic mountains to pristine beaches. Nat. parks such as Yellowstone, Yosemite, and the Great Smoky Mountains attract millions of visitors each year, offering opportunities for hiking, camping, and wildlife viewing. The country's diverse climate ensures that there is something for everyone, whether you prefer the sunny shores of Calif. or the snowy peaks of Colo. The USA's commitment to preserving its natural heritage ensures that future generations can continue to enjoy its breathtaking scenery.\n"
     ]
    }
   ],
   "source": [
    "#let's use spacy to create a doc out of this text\n",
    "nlp = spacy.load(\"en_core_web_sm\")\n",
    "doc = nlp(text)\n",
    "print(doc)"
   ]
  },
  {
   "cell_type": "code",
   "execution_count": 10,
   "metadata": {},
   "outputs": [
    {
     "name": "stdout",
     "output_type": "stream",
     "text": [
      "2607\n",
      "489\n",
      "T\n",
      "h\n",
      "e\n",
      " \n",
      "U\n",
      ".\n",
      "S\n",
      ".\n",
      "A\n",
      ".\n",
      "-------------------------------\n",
      "The\n",
      "U.S.A.\n",
      "(\n",
      "United\n",
      "States\n",
      "of\n",
      "America\n",
      ")\n",
      ",\n",
      "commonly\n"
     ]
    }
   ],
   "source": [
    "#the output looks similar doesnt it, now let's check the length of text and doc\n",
    "print(len(text))\n",
    "print(len(doc))\n",
    "\n",
    "#print first 10 elements of text and doc\n",
    "for char in text[:10]:\n",
    "    print(char)\n",
    "print(\"-------------------------------\")\n",
    "for element in doc[:10]:\n",
    "    print(element)"
   ]
  },
  {
   "cell_type": "code",
   "execution_count": 11,
   "metadata": {},
   "outputs": [
    {
     "name": "stdout",
     "output_type": "stream",
     "text": [
      "The\n",
      "U.S.A.\n",
      "(United\n",
      "States\n",
      "of\n",
      "America),\n",
      "commonly\n",
      "known\n",
      "as\n",
      "the\n"
     ]
    }
   ],
   "source": [
    "#The doc is not just splitting the text into separate tokens just based on space.\n",
    "#we can confirm that by printing the first 10 elements of the splitted text\n",
    "for word in text.split()[:10]:\n",
    "    print(word)\n"
   ]
  },
  {
   "cell_type": "markdown",
   "metadata": {},
   "source": [
    "- See how the outputs vary, the doc takes each parenthesis as a separate token. It gathers all the semantic units of the text and lists each of them as a token. And also see how U.S.A is not splitted even though there is a full stop in between, which is infact a semantic unit, but it knows in this case, it is a part of an abbrievation."
   ]
  },
  {
   "cell_type": "markdown",
   "metadata": {},
   "source": [
    "##### Sents\n",
    "- It is a container that has the sentences of the text in a doc.\n",
    "- Even for a simple function like splitting sentences, there is a lot of things to keep in mind which varies with language.\n",
    "- spacy does the sentence boundary detection out of the box using the doc object."
   ]
  },
  {
   "cell_type": "code",
   "execution_count": 16,
   "metadata": {},
   "outputs": [
    {
     "name": "stdout",
     "output_type": "stream",
     "text": [
      "The U.S.A. (United States of America), commonly known as the USA, is a vast and diverse nation located in N. America.\n",
      "It is composed of 50 states, each with its own unique culture, geography, and attractions.\n",
      "From the bustling streets of NYC (New York City) to the serene landscapes of the Grand Canyon, the USA offers a wide range of experiences for both residents and visitors.\n",
      "The country is known for its rich history, which includes significant events such as the Am.\n",
      "Revolution, the Civil War, and the Civil Rights Movement.\n",
      "\n",
      "\n",
      "The USA is a melting pot of cultures, with people from all over the world contributing to its vibrant society.\n",
      "This cultural diversity is reflected in the nation's cuisine, music, art, and festivals.\n",
      "Cities like L.A. (Los Angeles), Miami, and Chicago are renowned for their cultural scenes, offering everything from world-class museums to lively music festivals.\n",
      "The Am.\n",
      "Dream, the idea that anyone can achieve success through hard work and determination, continues to attract immigrants seeking new opportunities.\n",
      "\n",
      "\n",
      "Economically, the USA is one of the world's leading powers.\n",
      "It boasts a highly developed economy with a strong emphasis on innovation, tech, and entrepreneurship.\n",
      "Silicon Valley in Calif. is a global hub for tech companies and startups, while Wall Street in NYC is synonymous with finance and investment.\n",
      "The country's diverse economy also includes significant contributions from industries such as agriculture, manufacturing, and healthcare.\n",
      "\n",
      "\n",
      "Politically, the USA operates as a federal republic with a strong emphasis on democratic principles.\n",
      "The govt. is divided into three branches: the executive, led by the Pres.;\n",
      "the legislative, consisting of Congress; and the judicial, headed by the Sup. Court.\n",
      "The Constitution, the supreme law of the land, outlines the framework for governance and protects the rights and freedoms of Am. citizens.\n",
      "The country's political landscape is characterized by a dynamic and often contentious interplay of ideas and ideologies.\n",
      "\n",
      "\n",
      "The natural beauty of the USA is awe-inspiring, with a variety of landscapes ranging from majestic mountains to pristine beaches.\n",
      "Nat.\n",
      "parks such as Yellowstone, Yosemite, and the Great Smoky Mountains attract millions of visitors each year, offering opportunities for hiking, camping, and wildlife viewing.\n",
      "The country's diverse climate ensures that there is something for everyone, whether you prefer the sunny shores of Calif. or the snowy peaks of Colo.\n",
      "The USA's commitment to preserving its natural heritage ensures that future generations can continue to enjoy its breathtaking scenery.\n"
     ]
    }
   ],
   "source": [
    "#Let us try to extract the sentences out of our doc\n",
    "sents = doc.sents\n",
    "\n",
    "for sent in sents:\n",
    "    print (sent)\n",
    "\n",
    "#notice how even the para blankline is also considered a separate sentence"
   ]
  },
  {
   "cell_type": "code",
   "execution_count": 17,
   "metadata": {},
   "outputs": [
    {
     "ename": "TypeError",
     "evalue": "'generator' object is not subscriptable",
     "output_type": "error",
     "traceback": [
      "\u001b[1;31m---------------------------------------------------------------------------\u001b[0m",
      "\u001b[1;31mTypeError\u001b[0m                                 Traceback (most recent call last)",
      "Cell \u001b[1;32mIn[17], line 2\u001b[0m\n\u001b[0;32m      1\u001b[0m \u001b[38;5;66;03m#let us try to print the first sentence\u001b[39;00m\n\u001b[1;32m----> 2\u001b[0m sent1 \u001b[38;5;241m=\u001b[39m \u001b[43msents\u001b[49m\u001b[43m[\u001b[49m\u001b[38;5;241;43m0\u001b[39;49m\u001b[43m]\u001b[49m\n\u001b[0;32m      3\u001b[0m \u001b[38;5;28mprint\u001b[39m(sent)\n",
      "\u001b[1;31mTypeError\u001b[0m: 'generator' object is not subscriptable"
     ]
    }
   ],
   "source": [
    "#let us try to print the first sentence\n",
    "sent1 = sents[0]\n",
    "print(sent)"
   ]
  },
  {
   "cell_type": "markdown",
   "metadata": {},
   "source": [
    "- it does not work, because sents is a generator on doc object, hence it is not subscriptable (i.e we cannot loop over it)"
   ]
  },
  {
   "cell_type": "code",
   "execution_count": 22,
   "metadata": {},
   "outputs": [
    {
     "name": "stdout",
     "output_type": "stream",
     "text": [
      "The U.S.A. (United States of America), commonly known as the USA, is a vast and diverse nation located in N. America.\n"
     ]
    }
   ],
   "source": [
    "#so let's extact the sents into a list and access the first sentence\n",
    "sent1 = list(doc.sents)[0]\n",
    "print(sent1)"
   ]
  },
  {
   "cell_type": "markdown",
   "metadata": {},
   "source": [
    "##### Token\n",
    "- It is the smallest unit of a doc (typically a word in the sentence).\n",
    "- It has various attributes that represent the linguistic features of the word. These features are gathered from the nature of the word, it's position and usage in the sentence.\n",
    "- Let's check some of the attributes of a token obtained from a sent."
   ]
  },
  {
   "cell_type": "code",
   "execution_count": 32,
   "metadata": {},
   "outputs": [
    {
     "name": "stdout",
     "output_type": "stream",
     "text": [
      "known\n",
      "------------\n",
      "known\n",
      "know\n",
      "\n",
      "O\n",
      "commonly\n",
      "USA\n",
      "VERB\n"
     ]
    }
   ],
   "source": [
    "token = sent1[10]\n",
    "print(token)\n",
    "print(\"------------\")\n",
    "print(token.text)\n",
    "print(token.lemma_) #root word\n",
    "print(token.ent_id_) #entity type that is associated with this token (no entity associated with a verb)\n",
    "print(token.ent_iob_) #inside, outside or beginning of an entity\n",
    "print(token.left_edge) #starting point of the syntactic subtree\n",
    "print(token.right_edge) #ending point of the syntactic subtree\n",
    "print(token.pos_)\n",
    "\n",
    "\n",
    "#we have covered many of the concepts like POS, lemma, entity in the 2nd document - 2-understanding-NLP-using-nltk.ipynb"
   ]
  },
  {
   "cell_type": "markdown",
   "metadata": {},
   "source": [
    "- Visualizing Dependency Parser and Parts of speech"
   ]
  },
  {
   "cell_type": "markdown",
   "metadata": {},
   "source": [
    "##### Ent\n",
    "- list ents in a doc\n",
    "- some of ent abbrievations\n",
    "- visualize ents"
   ]
  },
  {
   "cell_type": "markdown",
   "metadata": {},
   "source": [
    "#### Word Vectors and spacy\n",
    "- install a more complex model that uses word vectors\n",
    "- what are word vectors?\n",
    "- how are word vectors obtained?\n",
    "- word vector simulation in spacy\n",
    "- similar words\n",
    "- Obtaining similarity rating\n",
    "    - between docs\n",
    "    - between words"
   ]
  },
  {
   "cell_type": "code",
   "execution_count": 1,
   "metadata": {},
   "outputs": [
    {
     "name": "stdout",
     "output_type": "stream",
     "text": [
      "Collecting en-core-web-md==3.8.0\n",
      "  Downloading https://github.com/explosion/spacy-models/releases/download/en_core_web_md-3.8.0/en_core_web_md-3.8.0-py3-none-any.whl (33.5 MB)\n",
      "     ---------------------------------------- 0.0/33.5 MB ? eta -:--:--\n",
      "     ---------------------------------------- 0.0/33.5 MB ? eta -:--:--\n",
      "     - -------------------------------------- 1.0/33.5 MB 5.0 MB/s eta 0:00:07\n",
      "     -- ------------------------------------- 1.8/33.5 MB 5.0 MB/s eta 0:00:07\n",
      "     --- ------------------------------------ 2.9/33.5 MB 4.7 MB/s eta 0:00:07\n",
      "     ---- ----------------------------------- 3.7/33.5 MB 4.4 MB/s eta 0:00:07\n",
      "     ----- ---------------------------------- 4.2/33.5 MB 4.0 MB/s eta 0:00:08\n",
      "     ------ --------------------------------- 5.2/33.5 MB 4.2 MB/s eta 0:00:07\n",
      "     ------- -------------------------------- 6.3/33.5 MB 4.3 MB/s eta 0:00:07\n",
      "     -------- ------------------------------- 7.3/33.5 MB 4.4 MB/s eta 0:00:07\n",
      "     ---------- ----------------------------- 8.7/33.5 MB 4.6 MB/s eta 0:00:06\n",
      "     ------------ --------------------------- 10.2/33.5 MB 4.9 MB/s eta 0:00:05\n",
      "     ------------- -------------------------- 11.5/33.5 MB 5.0 MB/s eta 0:00:05\n",
      "     --------------- ------------------------ 12.8/33.5 MB 5.2 MB/s eta 0:00:04\n",
      "     ----------------- ---------------------- 14.4/33.5 MB 5.3 MB/s eta 0:00:04\n",
      "     ------------------- -------------------- 16.0/33.5 MB 5.5 MB/s eta 0:00:04\n",
      "     -------------------- ------------------- 17.6/33.5 MB 5.6 MB/s eta 0:00:03\n",
      "     ---------------------- ----------------- 18.9/33.5 MB 5.7 MB/s eta 0:00:03\n",
      "     ------------------------ --------------- 20.4/33.5 MB 5.8 MB/s eta 0:00:03\n",
      "     ------------------------- -------------- 21.8/33.5 MB 5.8 MB/s eta 0:00:03\n",
      "     --------------------------- ------------ 22.8/33.5 MB 5.8 MB/s eta 0:00:02\n",
      "     ----------------------------- ---------- 24.4/33.5 MB 5.8 MB/s eta 0:00:02\n",
      "     ------------------------------ --------- 25.7/33.5 MB 5.9 MB/s eta 0:00:02\n",
      "     -------------------------------- ------- 27.0/33.5 MB 5.9 MB/s eta 0:00:02\n",
      "     --------------------------------- ------ 28.3/33.5 MB 5.9 MB/s eta 0:00:01\n",
      "     ----------------------------------- ---- 29.9/33.5 MB 6.0 MB/s eta 0:00:01\n",
      "     ------------------------------------- -- 31.5/33.5 MB 6.0 MB/s eta 0:00:01\n",
      "     ---------------------------------------  33.0/33.5 MB 6.1 MB/s eta 0:00:01\n",
      "     ---------------------------------------- 33.5/33.5 MB 5.9 MB/s eta 0:00:00\n",
      "Installing collected packages: en-core-web-md\n",
      "Successfully installed en-core-web-md-3.8.0\n",
      "\u001b[38;5;2m✔ Download and installation successful\u001b[0m\n",
      "You can now load the package via spacy.load('en_core_web_md')\n"
     ]
    }
   ],
   "source": [
    "!py -m spacy download en_core_web_md"
   ]
  }
 ],
 "metadata": {
  "kernelspec": {
   "display_name": "Python 3",
   "language": "python",
   "name": "python3"
  },
  "language_info": {
   "codemirror_mode": {
    "name": "ipython",
    "version": 3
   },
   "file_extension": ".py",
   "mimetype": "text/x-python",
   "name": "python",
   "nbconvert_exporter": "python",
   "pygments_lexer": "ipython3",
   "version": "3.12.8"
  }
 },
 "nbformat": 4,
 "nbformat_minor": 2
}
