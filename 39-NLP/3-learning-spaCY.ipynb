{
 "cells": [
  {
   "cell_type": "markdown",
   "metadata": {},
   "source": [
    "#### Resources:\n",
    "- [Reference video](https://www.youtube.com/watch?v=dIUTsFT2MeQ&list=PLUorQzJgGyjFMESZTXl_6ZPYLnwG2EDvm&index=4)\n",
    "- [Reference book](https://spacy.pythonhumanities.com/intro.html)\n",
    "\n",
    "#### NLP v/s NLU\n",
    "##### NLP\n",
    "- NLP is processing the input to process the text from the strict specs of a language.\n",
    "- In NLP, we try to gather all the possible units to place the input in a structure, that can be understood by more intelligent language models to weave their magic with this derived structure. \n",
    "- It performs an array of functions which includes:\n",
    "    - NER (Named Entity Recognition)\n",
    "    - syntax parsing\n",
    "    - POS\n",
    "    - Text categorization\n",
    "\n",
    "##### NLU\n",
    "- NLU is an attempt to humanize the language, trying to understand the language from a more human point of view.\n",
    "- It performs functions like:\n",
    "    - semantic parsing (understanding the context)\n",
    "    - question & answering (important in bots)\n",
    "    - sentiment analysis\n",
    "    - paraphrasing\n",
    "    - summarization\n",
    "\n",
    "#### SPACY Intro\n",
    "- What is spaCY?\n",
    "    - It is a python framework used to implement NLP.\n",
    "- why spaCY?\n",
    " - It comes with off the shelf models that are quick and precise, we as a developer don't need to tweak too much to get the best performance out of it.\n",
    " - It can use the latest transformer models.\n",
    " - Easier to perform custom trainer relative to other NLP frameworks\n",
    " - It is scalable, i.e it works well with real world data that are large in nature and are ever growing.\n",
    "\n",
    "\n",
    "#### SPACY installation and setup\n",
    "- site\n",
    "- commands\n",
    "\n",
    "\n"
   ]
  },
  {
   "cell_type": "code",
   "execution_count": 3,
   "metadata": {},
   "outputs": [],
   "source": [
    "import spacy"
   ]
  },
  {
   "cell_type": "code",
   "execution_count": 4,
   "metadata": {},
   "outputs": [],
   "source": [
    "#check whether all the resources of spacy is loaded correctly\n",
    "nlp = spacy.load(\"en_core_web_sm\")"
   ]
  },
  {
   "cell_type": "markdown",
   "metadata": {},
   "source": [
    "#### Containers\n",
    "- containers - what is a container in a spacy?\n",
    "- different types of containers in spacy\n",
    "\n",
    "##### Doc"
   ]
  },
  {
   "cell_type": "code",
   "execution_count": 5,
   "metadata": {},
   "outputs": [
    {
     "name": "stdout",
     "output_type": "stream",
     "text": [
      "The U.S.A. (United States of America), commonly known as the USA, is a vast and diverse nation located in N. America. It is composed of 50 states, each with its own unique culture, geography, and attractions. From the bustling streets of NYC (New York City) to the serene landscapes of the Grand Canyon, the USA offers a wide range of experiences for both residents and visitors. The country is known for its rich history, which includes significant events such as the Am. Revolution, the Civil War, and the Civil Rights Movement.\n",
      "\n",
      "The USA is a melting pot of cultures, with people from all over the world contributing to its vibrant society. This cultural diversity is reflected in the nation's cuisine, music, art, and festivals. Cities like L.A. (Los Angeles), Miami, and Chicago are renowned for their cultural scenes, offering everything from world-class museums to lively music festivals. The Am. Dream, the idea that anyone can achieve success through hard work and determination, continues to attract immigrants seeking new opportunities.\n",
      "\n",
      "Economically, the USA is one of the world's leading powers. It boasts a highly developed economy with a strong emphasis on innovation, tech, and entrepreneurship. Silicon Valley in Calif. is a global hub for tech companies and startups, while Wall Street in NYC is synonymous with finance and investment. The country's diverse economy also includes significant contributions from industries such as agriculture, manufacturing, and healthcare.\n",
      "\n",
      "Politically, the USA operates as a federal republic with a strong emphasis on democratic principles. The govt. is divided into three branches: the executive, led by the Pres.; the legislative, consisting of Congress; and the judicial, headed by the Sup. Court. The Constitution, the supreme law of the land, outlines the framework for governance and protects the rights and freedoms of Am. citizens. The country's political landscape is characterized by a dynamic and often contentious interplay of ideas and ideologies.\n",
      "\n",
      "The natural beauty of the USA is awe-inspiring, with a variety of landscapes ranging from majestic mountains to pristine beaches. Nat. parks such as Yellowstone, Yosemite, and the Great Smoky Mountains attract millions of visitors each year, offering opportunities for hiking, camping, and wildlife viewing. The country's diverse climate ensures that there is something for everyone, whether you prefer the sunny shores of Calif. or the snowy peaks of Colo. The USA's commitment to preserving its natural heritage ensures that future generations can continue to enjoy its breathtaking scenery.\n"
     ]
    }
   ],
   "source": [
    "#let's take a text containing multiple paras from the file usa.txt\n",
    "with open(\"usa.txt\", \"r\") as f:\n",
    "    text = f.read()\n",
    "\n",
    "print(text)"
   ]
  },
  {
   "cell_type": "code",
   "execution_count": 6,
   "metadata": {},
   "outputs": [
    {
     "name": "stdout",
     "output_type": "stream",
     "text": [
      "The U.S.A. (United States of America), commonly known as the USA, is a vast and diverse nation located in N. America. It is composed of 50 states, each with its own unique culture, geography, and attractions. From the bustling streets of NYC (New York City) to the serene landscapes of the Grand Canyon, the USA offers a wide range of experiences for both residents and visitors. The country is known for its rich history, which includes significant events such as the Am. Revolution, the Civil War, and the Civil Rights Movement.\n",
      "\n",
      "The USA is a melting pot of cultures, with people from all over the world contributing to its vibrant society. This cultural diversity is reflected in the nation's cuisine, music, art, and festivals. Cities like L.A. (Los Angeles), Miami, and Chicago are renowned for their cultural scenes, offering everything from world-class museums to lively music festivals. The Am. Dream, the idea that anyone can achieve success through hard work and determination, continues to attract immigrants seeking new opportunities.\n",
      "\n",
      "Economically, the USA is one of the world's leading powers. It boasts a highly developed economy with a strong emphasis on innovation, tech, and entrepreneurship. Silicon Valley in Calif. is a global hub for tech companies and startups, while Wall Street in NYC is synonymous with finance and investment. The country's diverse economy also includes significant contributions from industries such as agriculture, manufacturing, and healthcare.\n",
      "\n",
      "Politically, the USA operates as a federal republic with a strong emphasis on democratic principles. The govt. is divided into three branches: the executive, led by the Pres.; the legislative, consisting of Congress; and the judicial, headed by the Sup. Court. The Constitution, the supreme law of the land, outlines the framework for governance and protects the rights and freedoms of Am. citizens. The country's political landscape is characterized by a dynamic and often contentious interplay of ideas and ideologies.\n",
      "\n",
      "The natural beauty of the USA is awe-inspiring, with a variety of landscapes ranging from majestic mountains to pristine beaches. Nat. parks such as Yellowstone, Yosemite, and the Great Smoky Mountains attract millions of visitors each year, offering opportunities for hiking, camping, and wildlife viewing. The country's diverse climate ensures that there is something for everyone, whether you prefer the sunny shores of Calif. or the snowy peaks of Colo. The USA's commitment to preserving its natural heritage ensures that future generations can continue to enjoy its breathtaking scenery.\n"
     ]
    }
   ],
   "source": [
    "#let's use spacy to create a doc out of this text\n",
    "nlp = spacy.load(\"en_core_web_sm\")\n",
    "doc = nlp(text)\n",
    "print(doc)"
   ]
  },
  {
   "cell_type": "code",
   "execution_count": 7,
   "metadata": {},
   "outputs": [
    {
     "name": "stdout",
     "output_type": "stream",
     "text": [
      "2607\n",
      "489\n",
      "T\n",
      "h\n",
      "e\n",
      " \n",
      "U\n",
      ".\n",
      "S\n",
      ".\n",
      "A\n",
      ".\n",
      "-------------------------------\n",
      "The\n",
      "U.S.A.\n",
      "(\n",
      "United\n",
      "States\n",
      "of\n",
      "America\n",
      ")\n",
      ",\n",
      "commonly\n"
     ]
    }
   ],
   "source": [
    "#the output looks similar doesnt it, now let's check the length of text and doc\n",
    "print(len(text))\n",
    "print(len(doc))\n",
    "\n",
    "#print first 10 elements of text and doc\n",
    "for char in text[:10]:\n",
    "    print(char)\n",
    "print(\"-------------------------------\")\n",
    "for element in doc[:10]:\n",
    "    print(element)"
   ]
  },
  {
   "cell_type": "code",
   "execution_count": 8,
   "metadata": {},
   "outputs": [
    {
     "name": "stdout",
     "output_type": "stream",
     "text": [
      "The\n",
      "U.S.A.\n",
      "(United\n",
      "States\n",
      "of\n",
      "America),\n",
      "commonly\n",
      "known\n",
      "as\n",
      "the\n"
     ]
    }
   ],
   "source": [
    "#The doc is not just splitting the text into separate tokens just based on space.\n",
    "#we can confirm that by printing the first 10 elements of the splitted text\n",
    "for word in text.split()[:10]:\n",
    "    print(word)\n"
   ]
  },
  {
   "cell_type": "markdown",
   "metadata": {},
   "source": [
    "- See how the outputs vary, the doc takes each parenthesis as a separate token. It gathers all the semantic units of the text and lists each of them as a token. And also see how U.S.A is not splitted even though there is a full stop in between, which is infact a semantic unit, but it knows in this case, it is a part of an abbrievation."
   ]
  },
  {
   "cell_type": "markdown",
   "metadata": {},
   "source": [
    "##### Sents\n",
    "- It is a container that has the sentences of the text in a doc.\n",
    "- Even for a simple function like splitting sentences, there is a lot of things to keep in mind which varies with language.\n",
    "- spacy does the sentence boundary detection out of the box using the doc object."
   ]
  },
  {
   "cell_type": "code",
   "execution_count": 9,
   "metadata": {},
   "outputs": [
    {
     "name": "stdout",
     "output_type": "stream",
     "text": [
      "The U.S.A. (United States of America), commonly known as the USA, is a vast and diverse nation located in N. America.\n",
      "It is composed of 50 states, each with its own unique culture, geography, and attractions.\n",
      "From the bustling streets of NYC (New York City) to the serene landscapes of the Grand Canyon, the USA offers a wide range of experiences for both residents and visitors.\n",
      "The country is known for its rich history, which includes significant events such as the Am.\n",
      "Revolution, the Civil War, and the Civil Rights Movement.\n",
      "\n",
      "\n",
      "The USA is a melting pot of cultures, with people from all over the world contributing to its vibrant society.\n",
      "This cultural diversity is reflected in the nation's cuisine, music, art, and festivals.\n",
      "Cities like L.A. (Los Angeles), Miami, and Chicago are renowned for their cultural scenes, offering everything from world-class museums to lively music festivals.\n",
      "The Am.\n",
      "Dream, the idea that anyone can achieve success through hard work and determination, continues to attract immigrants seeking new opportunities.\n",
      "\n",
      "\n",
      "Economically, the USA is one of the world's leading powers.\n",
      "It boasts a highly developed economy with a strong emphasis on innovation, tech, and entrepreneurship.\n",
      "Silicon Valley in Calif. is a global hub for tech companies and startups, while Wall Street in NYC is synonymous with finance and investment.\n",
      "The country's diverse economy also includes significant contributions from industries such as agriculture, manufacturing, and healthcare.\n",
      "\n",
      "\n",
      "Politically, the USA operates as a federal republic with a strong emphasis on democratic principles.\n",
      "The govt. is divided into three branches: the executive, led by the Pres.;\n",
      "the legislative, consisting of Congress; and the judicial, headed by the Sup. Court.\n",
      "The Constitution, the supreme law of the land, outlines the framework for governance and protects the rights and freedoms of Am. citizens.\n",
      "The country's political landscape is characterized by a dynamic and often contentious interplay of ideas and ideologies.\n",
      "\n",
      "\n",
      "The natural beauty of the USA is awe-inspiring, with a variety of landscapes ranging from majestic mountains to pristine beaches.\n",
      "Nat.\n",
      "parks such as Yellowstone, Yosemite, and the Great Smoky Mountains attract millions of visitors each year, offering opportunities for hiking, camping, and wildlife viewing.\n",
      "The country's diverse climate ensures that there is something for everyone, whether you prefer the sunny shores of Calif. or the snowy peaks of Colo.\n",
      "The USA's commitment to preserving its natural heritage ensures that future generations can continue to enjoy its breathtaking scenery.\n"
     ]
    }
   ],
   "source": [
    "#Let us try to extract the sentences out of our doc\n",
    "sents = doc.sents\n",
    "\n",
    "for sent in sents:\n",
    "    print (sent)\n",
    "\n",
    "#notice how even the para blankline is also considered a separate sentence"
   ]
  },
  {
   "cell_type": "code",
   "execution_count": 10,
   "metadata": {},
   "outputs": [
    {
     "ename": "TypeError",
     "evalue": "'generator' object is not subscriptable",
     "output_type": "error",
     "traceback": [
      "\u001b[1;31m---------------------------------------------------------------------------\u001b[0m",
      "\u001b[1;31mTypeError\u001b[0m                                 Traceback (most recent call last)",
      "Cell \u001b[1;32mIn[10], line 2\u001b[0m\n\u001b[0;32m      1\u001b[0m \u001b[38;5;66;03m#let us try to print the first sentence\u001b[39;00m\n\u001b[1;32m----> 2\u001b[0m sent1 \u001b[38;5;241m=\u001b[39m \u001b[43msents\u001b[49m\u001b[43m[\u001b[49m\u001b[38;5;241;43m0\u001b[39;49m\u001b[43m]\u001b[49m\n\u001b[0;32m      3\u001b[0m \u001b[38;5;28mprint\u001b[39m(sent)\n",
      "\u001b[1;31mTypeError\u001b[0m: 'generator' object is not subscriptable"
     ]
    }
   ],
   "source": [
    "#let us try to print the first sentence\n",
    "sent1 = sents[0]\n",
    "print(sent)"
   ]
  },
  {
   "cell_type": "markdown",
   "metadata": {},
   "source": [
    "- it does not work, because sents is a generator on doc object, hence it is not subscriptable (i.e we cannot loop over it)"
   ]
  },
  {
   "cell_type": "code",
   "execution_count": 12,
   "metadata": {},
   "outputs": [
    {
     "name": "stdout",
     "output_type": "stream",
     "text": [
      "The U.S.A. (United States of America), commonly known as the USA, is a vast and diverse nation located in N. America.\n"
     ]
    }
   ],
   "source": [
    "#so let's extact the sents into a list and access the first sentence\n",
    "sent1 = list(doc.sents)[0]\n",
    "print(sent1)"
   ]
  },
  {
   "cell_type": "markdown",
   "metadata": {},
   "source": [
    "##### Token\n",
    "- It is the smallest unit of a doc (typically a word in the sentence).\n",
    "- It has various attributes that represent the linguistic features of the word. These features are gathered from the nature of the word, it's position and usage in the sentence.\n",
    "- Let's check some of the attributes of a token obtained from a sent."
   ]
  },
  {
   "cell_type": "code",
   "execution_count": 14,
   "metadata": {},
   "outputs": [
    {
     "name": "stdout",
     "output_type": "stream",
     "text": [
      "known\n",
      "------------\n",
      "known\n",
      "know\n",
      "\n",
      "O\n",
      "commonly\n",
      "USA\n",
      "VERB\n"
     ]
    }
   ],
   "source": [
    "token = sent1[10]\n",
    "print(token)\n",
    "print(\"------------\")\n",
    "print(token.text)\n",
    "print(token.lemma_) #root word\n",
    "print(token.ent_id_) #entity type that is associated with this token (no entity associated with a verb)\n",
    "print(token.ent_iob_) #inside, outside or beginning of an entity\n",
    "print(token.left_edge) #starting point of the syntactic subtree\n",
    "print(token.right_edge) #ending point of the syntactic subtree\n",
    "print(token.pos_)\n",
    "\n",
    "\n",
    "#we have covered many of the concepts like POS, lemma, entity in the 2nd document - 2-understanding-NLP-using-nltk.ipynb"
   ]
  },
  {
   "cell_type": "markdown",
   "metadata": {},
   "source": [
    "- Visualizing Dependency Parser and Parts of speech"
   ]
  },
  {
   "cell_type": "markdown",
   "metadata": {},
   "source": [
    "##### Ent\n",
    "- list ents in a doc\n"
   ]
  },
  {
   "cell_type": "code",
   "execution_count": 20,
   "metadata": {},
   "outputs": [
    {
     "name": "stdout",
     "output_type": "stream",
     "text": [
      "U.S.A. GPE\n",
      "United States of America GPE\n",
      "USA GPE\n",
      "N. America LOC\n",
      "50 CARDINAL\n",
      "NYC ORG\n",
      "New York City GPE\n",
      "the Grand Canyon LOC\n",
      "USA GPE\n",
      "the Civil War EVENT\n"
     ]
    }
   ],
   "source": [
    "ents = doc.ents\n",
    "\n",
    "# List of entities along with their types\n",
    "for ent in doc.ents[:10]:\n",
    "    print (ent, ent.label_)\n",
    "\n"
   ]
  },
  {
   "cell_type": "markdown",
   "metadata": {},
   "source": [
    "- some of ent abbrievations\n",
    "\n",
    "| **Abbreviation** | **Description**                  |\n",
    "|------------------|----------------------------------|\n",
    "| PERSON           | People, including fictional      |\n",
    "| ORG              | Companies, agencies, institutions, etc. |\n",
    "| GPE              | Countries, cities, states        |\n",
    "| DATE             | Absolute or relative dates or periods |\n",
    "| TIME             | Times smaller than a day         |\n",
    "| MONEY            | Monetary values, including unit  |\n",
    "| NORP             | Nationalities or religious/political groups |\n",
    "\n",
    "\n",
    "- visualize ents"
   ]
  },
  {
   "cell_type": "code",
   "execution_count": 21,
   "metadata": {},
   "outputs": [
    {
     "data": {
      "text/html": [
       "<span class=\"tex2jax_ignore\"><div class=\"entities\" style=\"line-height: 2.5; direction: ltr\">The \n",
       "<mark class=\"entity\" style=\"background: #feca74; padding: 0.45em 0.6em; margin: 0 0.25em; line-height: 1; border-radius: 0.35em;\">\n",
       "    U.S.A.\n",
       "    <span style=\"font-size: 0.8em; font-weight: bold; line-height: 1; border-radius: 0.35em; vertical-align: middle; margin-left: 0.5rem\">GPE</span>\n",
       "</mark>\n",
       " (\n",
       "<mark class=\"entity\" style=\"background: #feca74; padding: 0.45em 0.6em; margin: 0 0.25em; line-height: 1; border-radius: 0.35em;\">\n",
       "    United States of America\n",
       "    <span style=\"font-size: 0.8em; font-weight: bold; line-height: 1; border-radius: 0.35em; vertical-align: middle; margin-left: 0.5rem\">GPE</span>\n",
       "</mark>\n",
       "), commonly known as the \n",
       "<mark class=\"entity\" style=\"background: #feca74; padding: 0.45em 0.6em; margin: 0 0.25em; line-height: 1; border-radius: 0.35em;\">\n",
       "    USA\n",
       "    <span style=\"font-size: 0.8em; font-weight: bold; line-height: 1; border-radius: 0.35em; vertical-align: middle; margin-left: 0.5rem\">GPE</span>\n",
       "</mark>\n",
       ", is a vast and diverse nation located in \n",
       "<mark class=\"entity\" style=\"background: #ff9561; padding: 0.45em 0.6em; margin: 0 0.25em; line-height: 1; border-radius: 0.35em;\">\n",
       "    N. America\n",
       "    <span style=\"font-size: 0.8em; font-weight: bold; line-height: 1; border-radius: 0.35em; vertical-align: middle; margin-left: 0.5rem\">LOC</span>\n",
       "</mark>\n",
       ". It is composed of \n",
       "<mark class=\"entity\" style=\"background: #e4e7d2; padding: 0.45em 0.6em; margin: 0 0.25em; line-height: 1; border-radius: 0.35em;\">\n",
       "    50\n",
       "    <span style=\"font-size: 0.8em; font-weight: bold; line-height: 1; border-radius: 0.35em; vertical-align: middle; margin-left: 0.5rem\">CARDINAL</span>\n",
       "</mark>\n",
       " states, each with its own unique culture, geography, and attractions. From the bustling streets of \n",
       "<mark class=\"entity\" style=\"background: #7aecec; padding: 0.45em 0.6em; margin: 0 0.25em; line-height: 1; border-radius: 0.35em;\">\n",
       "    NYC\n",
       "    <span style=\"font-size: 0.8em; font-weight: bold; line-height: 1; border-radius: 0.35em; vertical-align: middle; margin-left: 0.5rem\">ORG</span>\n",
       "</mark>\n",
       " (\n",
       "<mark class=\"entity\" style=\"background: #feca74; padding: 0.45em 0.6em; margin: 0 0.25em; line-height: 1; border-radius: 0.35em;\">\n",
       "    New York City\n",
       "    <span style=\"font-size: 0.8em; font-weight: bold; line-height: 1; border-radius: 0.35em; vertical-align: middle; margin-left: 0.5rem\">GPE</span>\n",
       "</mark>\n",
       ") to the serene landscapes of \n",
       "<mark class=\"entity\" style=\"background: #ff9561; padding: 0.45em 0.6em; margin: 0 0.25em; line-height: 1; border-radius: 0.35em;\">\n",
       "    the Grand Canyon\n",
       "    <span style=\"font-size: 0.8em; font-weight: bold; line-height: 1; border-radius: 0.35em; vertical-align: middle; margin-left: 0.5rem\">LOC</span>\n",
       "</mark>\n",
       ", the \n",
       "<mark class=\"entity\" style=\"background: #feca74; padding: 0.45em 0.6em; margin: 0 0.25em; line-height: 1; border-radius: 0.35em;\">\n",
       "    USA\n",
       "    <span style=\"font-size: 0.8em; font-weight: bold; line-height: 1; border-radius: 0.35em; vertical-align: middle; margin-left: 0.5rem\">GPE</span>\n",
       "</mark>\n",
       " offers a wide range of experiences for both residents and visitors. The country is known for its rich history, which includes significant events such as the Am. Revolution, \n",
       "<mark class=\"entity\" style=\"background: #ffeb80; padding: 0.45em 0.6em; margin: 0 0.25em; line-height: 1; border-radius: 0.35em;\">\n",
       "    the Civil War\n",
       "    <span style=\"font-size: 0.8em; font-weight: bold; line-height: 1; border-radius: 0.35em; vertical-align: middle; margin-left: 0.5rem\">EVENT</span>\n",
       "</mark>\n",
       ", and \n",
       "<mark class=\"entity\" style=\"background: #7aecec; padding: 0.45em 0.6em; margin: 0 0.25em; line-height: 1; border-radius: 0.35em;\">\n",
       "    the Civil Rights Movement\n",
       "    <span style=\"font-size: 0.8em; font-weight: bold; line-height: 1; border-radius: 0.35em; vertical-align: middle; margin-left: 0.5rem\">ORG</span>\n",
       "</mark>\n",
       ".<br><br>The \n",
       "<mark class=\"entity\" style=\"background: #feca74; padding: 0.45em 0.6em; margin: 0 0.25em; line-height: 1; border-radius: 0.35em;\">\n",
       "    USA\n",
       "    <span style=\"font-size: 0.8em; font-weight: bold; line-height: 1; border-radius: 0.35em; vertical-align: middle; margin-left: 0.5rem\">GPE</span>\n",
       "</mark>\n",
       " is a melting pot of cultures, with people from all over the world contributing to its vibrant society. This cultural diversity is reflected in the nation's cuisine, music, art, and festivals. Cities like \n",
       "<mark class=\"entity\" style=\"background: #feca74; padding: 0.45em 0.6em; margin: 0 0.25em; line-height: 1; border-radius: 0.35em;\">\n",
       "    L.A.\n",
       "    <span style=\"font-size: 0.8em; font-weight: bold; line-height: 1; border-radius: 0.35em; vertical-align: middle; margin-left: 0.5rem\">GPE</span>\n",
       "</mark>\n",
       " (\n",
       "<mark class=\"entity\" style=\"background: #feca74; padding: 0.45em 0.6em; margin: 0 0.25em; line-height: 1; border-radius: 0.35em;\">\n",
       "    Los Angeles\n",
       "    <span style=\"font-size: 0.8em; font-weight: bold; line-height: 1; border-radius: 0.35em; vertical-align: middle; margin-left: 0.5rem\">GPE</span>\n",
       "</mark>\n",
       "), \n",
       "<mark class=\"entity\" style=\"background: #feca74; padding: 0.45em 0.6em; margin: 0 0.25em; line-height: 1; border-radius: 0.35em;\">\n",
       "    Miami\n",
       "    <span style=\"font-size: 0.8em; font-weight: bold; line-height: 1; border-radius: 0.35em; vertical-align: middle; margin-left: 0.5rem\">GPE</span>\n",
       "</mark>\n",
       ", and \n",
       "<mark class=\"entity\" style=\"background: #feca74; padding: 0.45em 0.6em; margin: 0 0.25em; line-height: 1; border-radius: 0.35em;\">\n",
       "    Chicago\n",
       "    <span style=\"font-size: 0.8em; font-weight: bold; line-height: 1; border-radius: 0.35em; vertical-align: middle; margin-left: 0.5rem\">GPE</span>\n",
       "</mark>\n",
       " are renowned for their cultural scenes, offering everything from world-class museums to lively music festivals. The Am. Dream, the idea that anyone can achieve success through hard work and determination, continues to attract immigrants seeking new opportunities.<br><br>Economically, the \n",
       "<mark class=\"entity\" style=\"background: #feca74; padding: 0.45em 0.6em; margin: 0 0.25em; line-height: 1; border-radius: 0.35em;\">\n",
       "    USA\n",
       "    <span style=\"font-size: 0.8em; font-weight: bold; line-height: 1; border-radius: 0.35em; vertical-align: middle; margin-left: 0.5rem\">GPE</span>\n",
       "</mark>\n",
       " is one of the world's leading powers. It boasts a highly developed economy with a strong emphasis on innovation, tech, and entrepreneurship. \n",
       "<mark class=\"entity\" style=\"background: #ff9561; padding: 0.45em 0.6em; margin: 0 0.25em; line-height: 1; border-radius: 0.35em;\">\n",
       "    Silicon Valley\n",
       "    <span style=\"font-size: 0.8em; font-weight: bold; line-height: 1; border-radius: 0.35em; vertical-align: middle; margin-left: 0.5rem\">LOC</span>\n",
       "</mark>\n",
       " in \n",
       "<mark class=\"entity\" style=\"background: #feca74; padding: 0.45em 0.6em; margin: 0 0.25em; line-height: 1; border-radius: 0.35em;\">\n",
       "    Calif.\n",
       "    <span style=\"font-size: 0.8em; font-weight: bold; line-height: 1; border-radius: 0.35em; vertical-align: middle; margin-left: 0.5rem\">GPE</span>\n",
       "</mark>\n",
       " is a global hub for tech companies and startups, while Wall Street in \n",
       "<mark class=\"entity\" style=\"background: #ff9561; padding: 0.45em 0.6em; margin: 0 0.25em; line-height: 1; border-radius: 0.35em;\">\n",
       "    NYC\n",
       "    <span style=\"font-size: 0.8em; font-weight: bold; line-height: 1; border-radius: 0.35em; vertical-align: middle; margin-left: 0.5rem\">LOC</span>\n",
       "</mark>\n",
       " is synonymous with finance and investment. The country's diverse economy also includes significant contributions from industries such as agriculture, manufacturing, and healthcare.<br><br>Politically, the \n",
       "<mark class=\"entity\" style=\"background: #feca74; padding: 0.45em 0.6em; margin: 0 0.25em; line-height: 1; border-radius: 0.35em;\">\n",
       "    USA\n",
       "    <span style=\"font-size: 0.8em; font-weight: bold; line-height: 1; border-radius: 0.35em; vertical-align: middle; margin-left: 0.5rem\">GPE</span>\n",
       "</mark>\n",
       " operates as a federal republic with a strong emphasis on democratic principles. The govt. is divided into \n",
       "<mark class=\"entity\" style=\"background: #e4e7d2; padding: 0.45em 0.6em; margin: 0 0.25em; line-height: 1; border-radius: 0.35em;\">\n",
       "    three\n",
       "    <span style=\"font-size: 0.8em; font-weight: bold; line-height: 1; border-radius: 0.35em; vertical-align: middle; margin-left: 0.5rem\">CARDINAL</span>\n",
       "</mark>\n",
       " branches: the executive, led by the Pres.; the legislative, consisting of \n",
       "<mark class=\"entity\" style=\"background: #7aecec; padding: 0.45em 0.6em; margin: 0 0.25em; line-height: 1; border-radius: 0.35em;\">\n",
       "    Congress\n",
       "    <span style=\"font-size: 0.8em; font-weight: bold; line-height: 1; border-radius: 0.35em; vertical-align: middle; margin-left: 0.5rem\">ORG</span>\n",
       "</mark>\n",
       "; and the judicial, headed by the Sup. Court. The \n",
       "<mark class=\"entity\" style=\"background: #ff8197; padding: 0.45em 0.6em; margin: 0 0.25em; line-height: 1; border-radius: 0.35em;\">\n",
       "    Constitution\n",
       "    <span style=\"font-size: 0.8em; font-weight: bold; line-height: 1; border-radius: 0.35em; vertical-align: middle; margin-left: 0.5rem\">LAW</span>\n",
       "</mark>\n",
       ", the supreme law of the land, outlines the framework for governance and protects the rights and freedoms of Am. citizens. The country's political landscape is characterized by a dynamic and often contentious interplay of ideas and ideologies.<br><br>The natural beauty of the \n",
       "<mark class=\"entity\" style=\"background: #feca74; padding: 0.45em 0.6em; margin: 0 0.25em; line-height: 1; border-radius: 0.35em;\">\n",
       "    USA\n",
       "    <span style=\"font-size: 0.8em; font-weight: bold; line-height: 1; border-radius: 0.35em; vertical-align: middle; margin-left: 0.5rem\">GPE</span>\n",
       "</mark>\n",
       " is awe-inspiring, with a variety of landscapes ranging from majestic mountains to pristine beaches. \n",
       "<mark class=\"entity\" style=\"background: #aa9cfc; padding: 0.45em 0.6em; margin: 0 0.25em; line-height: 1; border-radius: 0.35em;\">\n",
       "    Nat\n",
       "    <span style=\"font-size: 0.8em; font-weight: bold; line-height: 1; border-radius: 0.35em; vertical-align: middle; margin-left: 0.5rem\">PERSON</span>\n",
       "</mark>\n",
       ". parks such as \n",
       "<mark class=\"entity\" style=\"background: #feca74; padding: 0.45em 0.6em; margin: 0 0.25em; line-height: 1; border-radius: 0.35em;\">\n",
       "    Yellowstone\n",
       "    <span style=\"font-size: 0.8em; font-weight: bold; line-height: 1; border-radius: 0.35em; vertical-align: middle; margin-left: 0.5rem\">GPE</span>\n",
       "</mark>\n",
       ", Yosemite, and the Great Smoky Mountains attract \n",
       "<mark class=\"entity\" style=\"background: #e4e7d2; padding: 0.45em 0.6em; margin: 0 0.25em; line-height: 1; border-radius: 0.35em;\">\n",
       "    millions\n",
       "    <span style=\"font-size: 0.8em; font-weight: bold; line-height: 1; border-radius: 0.35em; vertical-align: middle; margin-left: 0.5rem\">CARDINAL</span>\n",
       "</mark>\n",
       " of visitors \n",
       "<mark class=\"entity\" style=\"background: #bfe1d9; padding: 0.45em 0.6em; margin: 0 0.25em; line-height: 1; border-radius: 0.35em;\">\n",
       "    each year\n",
       "    <span style=\"font-size: 0.8em; font-weight: bold; line-height: 1; border-radius: 0.35em; vertical-align: middle; margin-left: 0.5rem\">DATE</span>\n",
       "</mark>\n",
       ", offering opportunities for hiking, camping, and wildlife viewing. The country's diverse climate ensures that there is something for everyone, whether you prefer the sunny shores of \n",
       "<mark class=\"entity\" style=\"background: #feca74; padding: 0.45em 0.6em; margin: 0 0.25em; line-height: 1; border-radius: 0.35em;\">\n",
       "    Calif.\n",
       "    <span style=\"font-size: 0.8em; font-weight: bold; line-height: 1; border-radius: 0.35em; vertical-align: middle; margin-left: 0.5rem\">GPE</span>\n",
       "</mark>\n",
       " or \n",
       "<mark class=\"entity\" style=\"background: #7aecec; padding: 0.45em 0.6em; margin: 0 0.25em; line-height: 1; border-radius: 0.35em;\">\n",
       "    the snowy peaks\n",
       "    <span style=\"font-size: 0.8em; font-weight: bold; line-height: 1; border-radius: 0.35em; vertical-align: middle; margin-left: 0.5rem\">ORG</span>\n",
       "</mark>\n",
       " of \n",
       "<mark class=\"entity\" style=\"background: #feca74; padding: 0.45em 0.6em; margin: 0 0.25em; line-height: 1; border-radius: 0.35em;\">\n",
       "    Colo.\n",
       "    <span style=\"font-size: 0.8em; font-weight: bold; line-height: 1; border-radius: 0.35em; vertical-align: middle; margin-left: 0.5rem\">GPE</span>\n",
       "</mark>\n",
       " The \n",
       "<mark class=\"entity\" style=\"background: #feca74; padding: 0.45em 0.6em; margin: 0 0.25em; line-height: 1; border-radius: 0.35em;\">\n",
       "    USA\n",
       "    <span style=\"font-size: 0.8em; font-weight: bold; line-height: 1; border-radius: 0.35em; vertical-align: middle; margin-left: 0.5rem\">GPE</span>\n",
       "</mark>\n",
       "'s commitment to preserving its natural heritage ensures that future generations can continue to enjoy its breathtaking scenery.</div></span>"
      ],
      "text/plain": [
       "<IPython.core.display.HTML object>"
      ]
     },
     "metadata": {},
     "output_type": "display_data"
    }
   ],
   "source": [
    "#Visualizing ents in the doc using displacy module\n",
    "from spacy import displacy\n",
    "displacy.render(doc, style=\"ent\")"
   ]
  },
  {
   "cell_type": "markdown",
   "metadata": {},
   "source": [
    "#### Word Vectors and spacy\n",
    "- install a more complex model that uses word vectors\n",
    "    - Before getting into word vectors lets use a more complex english model that uses word vectors.\n",
    "\n",
    "\n"
   ]
  },
  {
   "cell_type": "code",
   "execution_count": 1,
   "metadata": {},
   "outputs": [
    {
     "name": "stdout",
     "output_type": "stream",
     "text": [
      "Collecting en-core-web-md==3.8.0\n",
      "  Downloading https://github.com/explosion/spacy-models/releases/download/en_core_web_md-3.8.0/en_core_web_md-3.8.0-py3-none-any.whl (33.5 MB)\n",
      "     ---------------------------------------- 0.0/33.5 MB ? eta -:--:--\n",
      "     ---------------------------------------- 0.0/33.5 MB ? eta -:--:--\n",
      "     - -------------------------------------- 1.0/33.5 MB 5.0 MB/s eta 0:00:07\n",
      "     -- ------------------------------------- 1.8/33.5 MB 5.0 MB/s eta 0:00:07\n",
      "     --- ------------------------------------ 2.9/33.5 MB 4.7 MB/s eta 0:00:07\n",
      "     ---- ----------------------------------- 3.7/33.5 MB 4.4 MB/s eta 0:00:07\n",
      "     ----- ---------------------------------- 4.2/33.5 MB 4.0 MB/s eta 0:00:08\n",
      "     ------ --------------------------------- 5.2/33.5 MB 4.2 MB/s eta 0:00:07\n",
      "     ------- -------------------------------- 6.3/33.5 MB 4.3 MB/s eta 0:00:07\n",
      "     -------- ------------------------------- 7.3/33.5 MB 4.4 MB/s eta 0:00:07\n",
      "     ---------- ----------------------------- 8.7/33.5 MB 4.6 MB/s eta 0:00:06\n",
      "     ------------ --------------------------- 10.2/33.5 MB 4.9 MB/s eta 0:00:05\n",
      "     ------------- -------------------------- 11.5/33.5 MB 5.0 MB/s eta 0:00:05\n",
      "     --------------- ------------------------ 12.8/33.5 MB 5.2 MB/s eta 0:00:04\n",
      "     ----------------- ---------------------- 14.4/33.5 MB 5.3 MB/s eta 0:00:04\n",
      "     ------------------- -------------------- 16.0/33.5 MB 5.5 MB/s eta 0:00:04\n",
      "     -------------------- ------------------- 17.6/33.5 MB 5.6 MB/s eta 0:00:03\n",
      "     ---------------------- ----------------- 18.9/33.5 MB 5.7 MB/s eta 0:00:03\n",
      "     ------------------------ --------------- 20.4/33.5 MB 5.8 MB/s eta 0:00:03\n",
      "     ------------------------- -------------- 21.8/33.5 MB 5.8 MB/s eta 0:00:03\n",
      "     --------------------------- ------------ 22.8/33.5 MB 5.8 MB/s eta 0:00:02\n",
      "     ----------------------------- ---------- 24.4/33.5 MB 5.8 MB/s eta 0:00:02\n",
      "     ------------------------------ --------- 25.7/33.5 MB 5.9 MB/s eta 0:00:02\n",
      "     -------------------------------- ------- 27.0/33.5 MB 5.9 MB/s eta 0:00:02\n",
      "     --------------------------------- ------ 28.3/33.5 MB 5.9 MB/s eta 0:00:01\n",
      "     ----------------------------------- ---- 29.9/33.5 MB 6.0 MB/s eta 0:00:01\n",
      "     ------------------------------------- -- 31.5/33.5 MB 6.0 MB/s eta 0:00:01\n",
      "     ---------------------------------------  33.0/33.5 MB 6.1 MB/s eta 0:00:01\n",
      "     ---------------------------------------- 33.5/33.5 MB 5.9 MB/s eta 0:00:00\n",
      "Installing collected packages: en-core-web-md\n",
      "Successfully installed en-core-web-md-3.8.0\n",
      "\u001b[38;5;2m✔ Download and installation successful\u001b[0m\n",
      "You can now load the package via spacy.load('en_core_web_md')\n"
     ]
    }
   ],
   "source": [
    "!py -m spacy download en_core_web_md"
   ]
  },
  {
   "cell_type": "markdown",
   "metadata": {},
   "source": [
    "- what are word vectors?\n",
    "    - Word vectors are numerical representations of words. They are represented typically using single dimensional arrays made up of float numbers. \n",
    "        `word_vector = [0.134, -0.872, 0.562, 0.781, -0.234]`\n",
    "    - Where each value tries to represent the word in conjunction with its usage with other words in a language.\n",
    "- how are word vectors obtained?\n",
    "    - word vectors are obtained by training models using a lot of text of a natural language. \n",
    "    - As the models get trained, they keep learning and updating the word vectors of each word.\n",
    "    - So what goes on in this training?\n"
   ]
  },
  {
   "cell_type": "markdown",
   "metadata": {},
   "source": [
    "- word vector simulation in spacy"
   ]
  },
  {
   "cell_type": "code",
   "execution_count": 24,
   "metadata": {},
   "outputs": [
    {
     "name": "stdout",
     "output_type": "stream",
     "text": [
      "The U.S.A. (United States of America), commonly known as the USA, is a vast and diverse nation located in N. America.\n"
     ]
    }
   ],
   "source": [
    "#once again lets process a text using a more complex model\n",
    "nlp = spacy.load(\"en_core_web_md\")\n",
    "with open (\"usa.txt\", \"r\") as f:\n",
    "    text = f.read()\n",
    "doc = nlp(text)\n",
    "sentence1 = list(doc.sents)[0]\n",
    "print(sentence1)"
   ]
  },
  {
   "cell_type": "code",
   "execution_count": 31,
   "metadata": {},
   "outputs": [
    {
     "name": "stdout",
     "output_type": "stream",
     "text": [
      "nation\n",
      "[-7.5829e-01  3.9237e-02  2.3143e-01 -4.1592e-01 -7.6574e-03 -3.2032e-01\n",
      "  4.1367e-01  6.9440e-01 -3.0146e-01  2.0164e+00 -8.1299e-01  2.4818e-01\n",
      " -2.5705e-01 -3.8748e-02 -9.2144e-03  4.6765e-01 -3.9313e-01 -3.2113e-01\n",
      "  9.7444e-01 -3.5395e-01 -5.4682e-01 -1.2090e-01  4.6114e-01  2.0801e-01\n",
      "  7.1732e-02 -4.0251e-01  2.6083e-01  1.2042e-01 -3.3666e-01 -1.0894e-01\n",
      "  2.1845e-01 -5.6275e-01  3.2672e-01 -6.6966e-01 -1.0907e-02  6.6302e-02\n",
      " -8.1467e-01 -3.0444e-01  1.4507e-01  5.2402e-01  8.2946e-02  1.7739e-01\n",
      " -5.0846e-02  1.2669e-01  5.5579e-02 -6.3532e-01  1.6651e-01  6.5790e-01\n",
      " -9.4693e-03 -3.9117e-01  3.9326e-02  1.9498e-01  5.1374e-02 -1.8961e-01\n",
      "  5.6267e-01 -3.9534e-01  5.0680e-01  6.4809e-02  5.7252e-01  3.0074e-02\n",
      " -4.2439e-01 -2.5851e-01 -6.3585e-01  1.0755e-01  2.0361e-01  3.9265e-02\n",
      "  1.4775e-01 -3.8724e-02  3.0193e-01  4.3575e-02 -4.5714e-01  4.4257e-01\n",
      " -4.6342e-01 -1.2837e-01 -4.0075e-01  9.5775e-02 -9.2030e-02  9.7823e-02\n",
      "  9.5401e-01  1.2454e-01 -8.0596e-02  8.8876e-01 -2.2920e-01 -1.1400e-01\n",
      " -1.7807e-01 -8.0792e-02 -8.7150e-02 -5.4739e-01 -9.3071e-02 -5.7331e-02\n",
      " -5.6341e-01  4.7313e-01 -3.1568e-01 -1.0096e-01 -1.5114e-01 -2.5608e-01\n",
      "  4.2388e-01  3.3686e-01  9.4552e-01 -1.6046e-01  2.0425e-01  4.5497e-01\n",
      " -1.4609e-01 -2.6905e-01 -3.1653e-01 -2.2197e+00 -2.7760e-01 -5.0115e-01\n",
      " -4.8262e-01 -4.9454e-01  6.9693e-01 -5.6772e-01 -7.2526e-01 -2.6954e-01\n",
      " -4.0943e-01  1.1276e-01 -2.3603e-01 -1.7467e-01 -9.3303e-01 -5.3286e-01\n",
      " -2.7170e-01  8.3046e-02  6.9121e-01 -3.5502e-01 -6.8196e-02 -5.6965e-02\n",
      "  4.8458e-02 -5.0353e-01  1.7106e-01  1.6815e-01  5.6535e-01 -1.7571e-01\n",
      "  3.4298e-01  9.0479e-03 -1.6045e-01 -8.0236e-02  2.4450e-01  1.0785e-01\n",
      " -4.9055e-01 -7.4374e-02  1.8100e-01  2.6624e-01 -2.3673e-01  2.5319e-01\n",
      "  1.9830e-01  7.3872e-02  2.5980e-01  7.9306e-01 -2.8691e-02 -5.4627e-02\n",
      " -5.5378e-01  2.1275e-01  1.7578e-02  1.5567e-01  2.7912e-01  4.9369e-02\n",
      " -1.0977e-01  2.1506e-01 -4.4320e-01 -3.6639e-01  1.2843e-01  5.9386e-01\n",
      "  1.3113e-01 -1.4490e-01  1.2628e-01 -2.6079e-01  9.8994e-01 -6.8030e-01\n",
      "  3.0316e-01  1.8757e-01  2.4942e-01 -4.0796e-01  2.6373e-01  4.3059e-01\n",
      "  2.4828e-01  3.1944e-02 -6.7811e-01 -1.1973e-02 -1.8649e-02 -7.7840e-02\n",
      "  1.6931e-01  5.9300e-01 -4.0926e-01  2.0992e-01  4.8344e-01  2.6427e-01\n",
      "  8.2395e-02 -4.7103e-01 -3.4171e-02  2.4897e-01  2.6646e-01 -1.4626e-01\n",
      " -1.5255e-01 -5.2121e-01 -2.0172e-01 -5.5388e-01 -2.0123e-01 -3.7092e-03\n",
      " -4.2017e-01 -6.6064e-01  7.3384e-01  4.0045e-02  1.3206e-01  6.1788e-01\n",
      "  1.3085e-01 -4.2422e-01 -1.5059e-01 -4.7239e-01 -4.5968e-02  1.3044e-01\n",
      "  7.7747e-01 -2.4171e-01 -8.4493e-01  1.6091e-01 -3.0068e-01 -2.9022e-02\n",
      " -3.5848e-01  1.8801e-01  1.0747e-01 -3.2779e-01 -9.4008e-01 -2.8865e-01\n",
      "  4.0491e-03 -1.8928e-03  4.7910e-02 -3.0183e-01  2.5292e-02  3.8302e-02\n",
      " -5.4980e-01 -9.2053e-02  3.5422e-02 -4.8887e-01  4.6497e-01  2.9693e-01\n",
      " -9.8850e-02  1.5797e-01  2.3451e-01 -3.2547e-01  2.5746e-01 -6.3011e-01\n",
      " -5.2881e-01  5.0325e-01 -1.1777e-01 -3.9385e-01  1.2068e-02  1.6347e-01\n",
      "  7.4671e-01 -3.9444e-01 -4.1389e-01  3.7136e-01  5.3112e-01  5.6622e-01\n",
      "  4.0825e-01  1.1481e-01  1.3243e-01  7.9808e-01  2.3738e-01  1.1233e-01\n",
      " -1.2954e-02  3.7360e-01 -4.5196e-01 -1.3897e-01 -9.0422e-02 -1.1427e-01\n",
      "  8.6006e-02 -1.0515e+00  8.4452e-02 -2.8541e-01 -6.6523e-02  2.9442e-01\n",
      " -5.8087e-02 -2.6297e-01 -4.1791e-01 -6.5936e-01 -2.9570e-01 -3.9420e-01\n",
      "  1.6536e-03  4.1573e-01  1.4813e-01  2.7077e-01 -7.5738e-02 -8.5346e-02\n",
      " -2.4188e-01  6.8428e-01  6.5972e-02 -6.1705e-01  3.5105e-02 -2.1968e-01\n",
      " -5.0045e-01  4.1130e-01 -2.5072e-01  1.5129e-01 -3.5130e-01  3.1756e-01\n",
      "  3.3315e-02 -1.8949e-01  9.8170e-02 -1.3173e-01 -6.1338e-01 -3.8998e-01]\n"
     ]
    }
   ],
   "source": [
    "#Let us view the vector of a word\n",
    "word1 = sentence1[20]\n",
    "print(word1.text)\n",
    "print(word1.vector)\n",
    "# you can see that a word vector associated with the word \"nation\" \n",
    "# a word vector is a huge array of floats here"
   ]
  },
  {
   "cell_type": "markdown",
   "metadata": {},
   "source": [
    "- similar words\n",
    "    - The advantage of having words in the form of vectors, is we can learn its association with other words in many ways. One such mode of association is similarity. Now as a simualation let's look at similar words of the word 'nation'"
   ]
  },
  {
   "cell_type": "code",
   "execution_count": 36,
   "metadata": {},
   "outputs": [
    {
     "name": "stdout",
     "output_type": "stream",
     "text": [
      "['suburb', 'Crime-Ridden', 'south-east', 'anti-poverty', 'inner-city', 'SLUMS', 'suburbs', 'TWENTIES', 'TENEMENTS', 'Mothers']\n"
     ]
    }
   ],
   "source": [
    "#https://stackoverflow.com/questions/54717449/mapping-word-vector-to-the-most-similar-closest-word-using-spacy\n",
    "import numpy as np\n",
    "\n",
    "your_word = \"nation\"\n",
    "\n",
    "ms = nlp.vocab.vectors.most_similar(\n",
    "    np.asarray([nlp.vocab.vectors[nlp.vocab.strings[your_word]]]), n=10)\n",
    "words = [nlp.vocab.strings[w] for w in ms[0][0]]\n",
    "distances = ms[2]\n",
    "print(words)"
   ]
  },
  {
   "cell_type": "markdown",
   "metadata": {},
   "source": [
    "- the above result may seem confusing. But what infact similarity is checking is using the word vectors trying to find words that have been used along with or in the same context as the word 'nation'. This similarity is ofcourse influenced by the data used to train these models."
   ]
  },
  {
   "cell_type": "markdown",
   "metadata": {},
   "source": [
    "- Obtaining similarity rating\n",
    "    - between docs\n",
    "    \n"
   ]
  },
  {
   "cell_type": "code",
   "execution_count": 39,
   "metadata": {},
   "outputs": [
    {
     "name": "stdout",
     "output_type": "stream",
     "text": [
      "0.8655217885971069\n",
      "0.7408841848373413\n"
     ]
    }
   ],
   "source": [
    "doc1 = nlp(\"I like pizza and burgers\")\n",
    "doc2 = nlp(\"I love fast food\")\n",
    "doc3 = nlp(\"I exercise every day\")\n",
    "print(doc1.similarity(doc2))\n",
    "print(doc1.similarity(doc3))"
   ]
  },
  {
   "cell_type": "markdown",
   "metadata": {},
   "source": [
    "- similarity between words"
   ]
  },
  {
   "cell_type": "code",
   "execution_count": 44,
   "metadata": {},
   "outputs": [
    {
     "name": "stdout",
     "output_type": "stream",
     "text": [
      "0.5979633927345276\n",
      "0.45480555295944214\n"
     ]
    }
   ],
   "source": [
    "doc1 = nlp(\"Orange\")\n",
    "doc2 = nlp(\"Fruit\")\n",
    "doc3 = nlp(\"Burger\")\n",
    "\n",
    "print(doc1[0].similarity(doc2[0]))\n",
    "print(doc1[0].similarity(doc3[0]))"
   ]
  }
 ],
 "metadata": {
  "kernelspec": {
   "display_name": "Python 3",
   "language": "python",
   "name": "python3"
  },
  "language_info": {
   "codemirror_mode": {
    "name": "ipython",
    "version": 3
   },
   "file_extension": ".py",
   "mimetype": "text/x-python",
   "name": "python",
   "nbconvert_exporter": "python",
   "pygments_lexer": "ipython3",
   "version": "3.12.8"
  }
 },
 "nbformat": 4,
 "nbformat_minor": 2
}
