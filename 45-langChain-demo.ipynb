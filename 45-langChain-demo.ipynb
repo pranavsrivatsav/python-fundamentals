{
 "cells": [
  {
   "cell_type": "markdown",
   "metadata": {},
   "source": [
    "### Simple LangChain Demonstration\n",
    "- As the goal of this demonstration, Our goal is to get suggestions for a Restaurant Name, and the menu items suitable for the name using any LLM of our choice.\n",
    "- In this demo, let's use Gemini AI. "
   ]
  },
  {
   "cell_type": "markdown",
   "metadata": {},
   "source": [
    "#### Installation\n",
    "- install gemini ai,langchain and langchain gemini module to use gemini ai\n",
    "  - `py -m pip install google-generativeai langchain langchain-google-genai `\n"
   ]
  },
  {
   "cell_type": "markdown",
   "metadata": {},
   "source": [
    "#### Connect with LLM\n",
    "- use gemini ai to do a demo generation via langchain\n",
    "  - create a gemini ai llm instance using the constructor ChatGoogleGenerativeAI\n"
   ]
  },
  {
   "cell_type": "code",
   "execution_count": 112,
   "metadata": {},
   "outputs": [],
   "source": [
    "# import gemini api key from config\n",
    "from utils import loadConfig, getConfig\n",
    "loadConfig()\n",
    "api_key = getConfig(\"gemini_apikey\")"
   ]
  },
  {
   "cell_type": "code",
   "execution_count": 114,
   "metadata": {},
   "outputs": [
    {
     "name": "stdout",
     "output_type": "stream",
     "text": [
      "Paris\n"
     ]
    }
   ],
   "source": [
    "from langchain_google_genai import ChatGoogleGenerativeAI\n",
    "from langchain_core.messages import HumanMessage\n",
    "\n",
    "llm = ChatGoogleGenerativeAI(model=\"gemini-pro\", google_api_key=api_key)\n",
    "user_input = \"What is the capital of France?\"\n",
    "messages = [HumanMessage(content=user_input)]\n",
    "response = llm.invoke(messages)\n",
    "print(response.content) "
   ]
  },
  {
   "cell_type": "markdown",
   "metadata": {},
   "source": [
    "#### Create prompts\n",
    "- create a prompt which gets the input as a cuisine to generate a hotel name based on cuisine\n",
    "  - In order to create a prompt in LangChain we need to use a prompt template, \n",
    "    - where we will have to provide the prompt with input templates \n",
    "    - along with the list of template input variables\n"
   ]
  },
  {
   "cell_type": "code",
   "execution_count": 23,
   "metadata": {},
   "outputs": [
    {
     "data": {
      "text/plain": [
       "'Suggest one restaurant name for indian cuisine'"
      ]
     },
     "execution_count": 23,
     "metadata": {},
     "output_type": "execute_result"
    }
   ],
   "source": [
    "from langchain.prompts import PromptTemplate\n",
    "\n",
    "restaurant_name_prompt = PromptTemplate(\n",
    "  input_variables=[\"cuisine\"],\n",
    "  template=\"Suggest one restaurant name for {cuisine} cuisine\"\n",
    ")\n",
    "\n",
    "restaurant_name_prompt.format(cuisine =  \"indian\") #The formatted prompt "
   ]
  },
  {
   "cell_type": "markdown",
   "metadata": {},
   "source": [
    "- Why dont we just use a python formatted string instead?\n",
    "  - Because we will have to pass the prompts via this prompt template to langchain chains to execute these prompts using our preferred LLMs."
   ]
  },
  {
   "cell_type": "markdown",
   "metadata": {},
   "source": [
    "- Similarly let us create a prompt to generate a menu based on hotel name"
   ]
  },
  {
   "cell_type": "code",
   "execution_count": 53,
   "metadata": {},
   "outputs": [
    {
     "data": {
      "text/plain": [
       "'For a hotel with the name Masala Mantra, suggest menu items with no categories, and comma separate them'"
      ]
     },
     "execution_count": 53,
     "metadata": {},
     "output_type": "execute_result"
    }
   ],
   "source": [
    "restaurant_menu_prompt = PromptTemplate(\n",
    "  input_variables=[\"hotel\"],\n",
    "  template=\"For a hotel with the name {hotel}, suggest menu items with no categories, and comma separate them\"\n",
    ")\n",
    "\n",
    "restaurant_menu_prompt.format(hotel =  \"Masala Mantra\") #The formatted prompt "
   ]
  },
  {
   "cell_type": "markdown",
   "metadata": {},
   "source": [
    "#### Chain prompts\n",
    "- We will need to create a chain to execute this prompts with our LLM. So let's create two chains for the restaurant name and menu.\n",
    "  - To create a chain we need 3 components\n",
    "    - a prompt\n",
    "    - a llm\n",
    "    - and an output parser\n",
    "      - We will use the built in stroutparser provided by LLM, this is a standard output parser, the derives the output in a string format from the LLM."
   ]
  },
  {
   "cell_type": "code",
   "execution_count": 54,
   "metadata": {},
   "outputs": [],
   "source": [
    "from langchain_core.output_parsers import StrOutputParser\n",
    "\n",
    "output_parser = StrOutputParser()\n",
    "restaurant_name_chain = restaurant_name_prompt | llm | output_parser\n",
    "restaurant_menu_chain = restaurant_menu_prompt | llm | output_parser"
   ]
  },
  {
   "cell_type": "markdown",
   "metadata": {},
   "source": [
    "- Let's execute these chains independently with some sample inputs"
   ]
  },
  {
   "cell_type": "code",
   "execution_count": 58,
   "metadata": {},
   "outputs": [
    {
     "name": "stdout",
     "output_type": "stream",
     "text": [
      "Tandoori Temptation\n",
      "Paneer Makhani, Butter Chicken, Rogan Josh, Dal Makhani, Biryani, Naan, Tandoori Chicken, Gulab Jamun, Rasmalai, Mango Lassi\n"
     ]
    }
   ],
   "source": [
    "print(restaurant_name_chain.invoke({\"cuisine\": \"indian\"}))\n",
    "print(restaurant_menu_chain.invoke({\"hotel\": \"Masala Mantra\"}))"
   ]
  },
  {
   "cell_type": "markdown",
   "metadata": {},
   "source": [
    "#### Run chains sequentially\n",
    "- Now let's chain these prompts together\n"
   ]
  },
  {
   "cell_type": "code",
   "execution_count": 62,
   "metadata": {},
   "outputs": [
    {
     "name": "stdout",
     "output_type": "stream",
     "text": [
      "Aroma Spice\n",
      "Tandoori Chicken, Butter Chicken, Paneer Tikka Masala, Biryani, Naan, Samosas, Pakoras, Lassi, Gulab Jamun, Kulfi\n"
     ]
    }
   ],
   "source": [
    "restaurant_name = restaurant_name_chain.invoke({\"cuisine\": \"indian\"})\n",
    "restaurant_menu = restaurant_menu_chain.invoke({\"hotel\": restaurant_name})\n",
    "print(restaurant_name)\n",
    "print(restaurant_menu)"
   ]
  },
  {
   "cell_type": "markdown",
   "metadata": {},
   "source": [
    "### LangChain and Agents Demo\n",
    "- As we learned before on the intro on LangChain, we can create something called agents via LangChain\n",
    "- Where the Agents use the reasoning ability of the LLM, to perform the next action using the tools in its toolkit.\n",
    "- So using agents we can customize and personalize the usage to our use case, and develop internal tools and use external tools in combination to leverage the LLM's reasoning capabilities to serve our particular needs.\n",
    "\n",
    "#### Let's create a sample LangChain agent\n",
    "- Let's create an agent which looks uses the LLM to parse the input, and then uses the tools such as Wikipedia and Math tools to generate a response\n",
    "- We can get list of tools available for langchain at langchain's website [list of tools available](https://python.langchain.com/docs/integrations/tools/)\n",
    "- For this lets use tools from langchain community toolkit, so we need to additionally install langchain-community package, and other packages for wikipedia and math.\n"
   ]
  },
  {
   "cell_type": "code",
   "execution_count": 70,
   "metadata": {},
   "outputs": [
    {
     "name": "stdout",
     "output_type": "stream",
     "text": [
      "Requirement already satisfied: langchain-community in c:\\users\\prana_lkead1j\\appdata\\local\\programs\\python\\python312\\lib\\site-packages (0.3.15)\n",
      "Requirement already satisfied: wikipedia in c:\\users\\prana_lkead1j\\appdata\\local\\programs\\python\\python312\\lib\\site-packages (1.4.0)\n",
      "Collecting numexpr\n",
      "  Downloading numexpr-2.10.2-cp312-cp312-win_amd64.whl.metadata (8.3 kB)\n",
      "Requirement already satisfied: PyYAML>=5.3 in c:\\users\\prana_lkead1j\\appdata\\local\\programs\\python\\python312\\lib\\site-packages (from langchain-community) (6.0.2)\n",
      "Requirement already satisfied: SQLAlchemy<3,>=1.4 in c:\\users\\prana_lkead1j\\appdata\\local\\programs\\python\\python312\\lib\\site-packages (from langchain-community) (2.0.37)\n",
      "Requirement already satisfied: aiohttp<4.0.0,>=3.8.3 in c:\\users\\prana_lkead1j\\appdata\\local\\programs\\python\\python312\\lib\\site-packages (from langchain-community) (3.11.11)\n",
      "Requirement already satisfied: dataclasses-json<0.7,>=0.5.7 in c:\\users\\prana_lkead1j\\appdata\\local\\programs\\python\\python312\\lib\\site-packages (from langchain-community) (0.6.7)\n",
      "Requirement already satisfied: httpx-sse<0.5.0,>=0.4.0 in c:\\users\\prana_lkead1j\\appdata\\local\\programs\\python\\python312\\lib\\site-packages (from langchain-community) (0.4.0)\n",
      "Requirement already satisfied: langchain<0.4.0,>=0.3.15 in c:\\users\\prana_lkead1j\\appdata\\local\\programs\\python\\python312\\lib\\site-packages (from langchain-community) (0.3.15)\n",
      "Requirement already satisfied: langchain-core<0.4.0,>=0.3.31 in c:\\users\\prana_lkead1j\\appdata\\local\\programs\\python\\python312\\lib\\site-packages (from langchain-community) (0.3.31)\n",
      "Requirement already satisfied: langsmith<0.4,>=0.1.125 in c:\\users\\prana_lkead1j\\appdata\\local\\programs\\python\\python312\\lib\\site-packages (from langchain-community) (0.3.1)\n",
      "Requirement already satisfied: numpy<3,>=1.26.2 in c:\\users\\prana_lkead1j\\appdata\\local\\programs\\python\\python312\\lib\\site-packages (from langchain-community) (2.2.2)\n",
      "Requirement already satisfied: pydantic-settings<3.0.0,>=2.4.0 in c:\\users\\prana_lkead1j\\appdata\\local\\programs\\python\\python312\\lib\\site-packages (from langchain-community) (2.7.1)\n",
      "Requirement already satisfied: requests<3,>=2 in c:\\users\\prana_lkead1j\\appdata\\local\\programs\\python\\python312\\lib\\site-packages (from langchain-community) (2.32.3)\n",
      "Requirement already satisfied: tenacity!=8.4.0,<10,>=8.1.0 in c:\\users\\prana_lkead1j\\appdata\\local\\programs\\python\\python312\\lib\\site-packages (from langchain-community) (9.0.0)\n",
      "Requirement already satisfied: beautifulsoup4 in c:\\users\\prana_lkead1j\\appdata\\local\\programs\\python\\python312\\lib\\site-packages (from wikipedia) (4.12.3)\n",
      "Requirement already satisfied: aiohappyeyeballs>=2.3.0 in c:\\users\\prana_lkead1j\\appdata\\local\\programs\\python\\python312\\lib\\site-packages (from aiohttp<4.0.0,>=3.8.3->langchain-community) (2.4.4)\n",
      "Requirement already satisfied: aiosignal>=1.1.2 in c:\\users\\prana_lkead1j\\appdata\\local\\programs\\python\\python312\\lib\\site-packages (from aiohttp<4.0.0,>=3.8.3->langchain-community) (1.3.2)\n",
      "Requirement already satisfied: attrs>=17.3.0 in c:\\users\\prana_lkead1j\\appdata\\local\\programs\\python\\python312\\lib\\site-packages (from aiohttp<4.0.0,>=3.8.3->langchain-community) (24.3.0)\n",
      "Requirement already satisfied: frozenlist>=1.1.1 in c:\\users\\prana_lkead1j\\appdata\\local\\programs\\python\\python312\\lib\\site-packages (from aiohttp<4.0.0,>=3.8.3->langchain-community) (1.5.0)\n",
      "Requirement already satisfied: multidict<7.0,>=4.5 in c:\\users\\prana_lkead1j\\appdata\\local\\programs\\python\\python312\\lib\\site-packages (from aiohttp<4.0.0,>=3.8.3->langchain-community) (6.1.0)\n",
      "Requirement already satisfied: propcache>=0.2.0 in c:\\users\\prana_lkead1j\\appdata\\local\\programs\\python\\python312\\lib\\site-packages (from aiohttp<4.0.0,>=3.8.3->langchain-community) (0.2.1)\n",
      "Requirement already satisfied: yarl<2.0,>=1.17.0 in c:\\users\\prana_lkead1j\\appdata\\local\\programs\\python\\python312\\lib\\site-packages (from aiohttp<4.0.0,>=3.8.3->langchain-community) (1.18.3)\n",
      "Requirement already satisfied: marshmallow<4.0.0,>=3.18.0 in c:\\users\\prana_lkead1j\\appdata\\local\\programs\\python\\python312\\lib\\site-packages (from dataclasses-json<0.7,>=0.5.7->langchain-community) (3.26.0)\n",
      "Requirement already satisfied: typing-inspect<1,>=0.4.0 in c:\\users\\prana_lkead1j\\appdata\\local\\programs\\python\\python312\\lib\\site-packages (from dataclasses-json<0.7,>=0.5.7->langchain-community) (0.9.0)\n",
      "Requirement already satisfied: langchain-text-splitters<0.4.0,>=0.3.3 in c:\\users\\prana_lkead1j\\appdata\\local\\programs\\python\\python312\\lib\\site-packages (from langchain<0.4.0,>=0.3.15->langchain-community) (0.3.5)\n",
      "Requirement already satisfied: pydantic<3.0.0,>=2.7.4 in c:\\users\\prana_lkead1j\\appdata\\local\\programs\\python\\python312\\lib\\site-packages (from langchain<0.4.0,>=0.3.15->langchain-community) (2.10.6)\n",
      "Requirement already satisfied: jsonpatch<2.0,>=1.33 in c:\\users\\prana_lkead1j\\appdata\\local\\programs\\python\\python312\\lib\\site-packages (from langchain-core<0.4.0,>=0.3.31->langchain-community) (1.33)\n",
      "Requirement already satisfied: packaging<25,>=23.2 in c:\\users\\prana_lkead1j\\appdata\\roaming\\python\\python312\\site-packages (from langchain-core<0.4.0,>=0.3.31->langchain-community) (24.2)\n",
      "Requirement already satisfied: typing-extensions>=4.7 in c:\\users\\prana_lkead1j\\appdata\\local\\programs\\python\\python312\\lib\\site-packages (from langchain-core<0.4.0,>=0.3.31->langchain-community) (4.12.2)\n",
      "Requirement already satisfied: httpx<1,>=0.23.0 in c:\\users\\prana_lkead1j\\appdata\\local\\programs\\python\\python312\\lib\\site-packages (from langsmith<0.4,>=0.1.125->langchain-community) (0.28.1)\n",
      "Requirement already satisfied: orjson<4.0.0,>=3.9.14 in c:\\users\\prana_lkead1j\\appdata\\local\\programs\\python\\python312\\lib\\site-packages (from langsmith<0.4,>=0.1.125->langchain-community) (3.10.15)\n",
      "Requirement already satisfied: requests-toolbelt<2.0.0,>=1.0.0 in c:\\users\\prana_lkead1j\\appdata\\local\\programs\\python\\python312\\lib\\site-packages (from langsmith<0.4,>=0.1.125->langchain-community) (1.0.0)\n",
      "Requirement already satisfied: zstandard<0.24.0,>=0.23.0 in c:\\users\\prana_lkead1j\\appdata\\local\\programs\\python\\python312\\lib\\site-packages (from langsmith<0.4,>=0.1.125->langchain-community) (0.23.0)\n",
      "Requirement already satisfied: python-dotenv>=0.21.0 in c:\\users\\prana_lkead1j\\appdata\\local\\programs\\python\\python312\\lib\\site-packages (from pydantic-settings<3.0.0,>=2.4.0->langchain-community) (1.0.1)\n",
      "Requirement already satisfied: charset-normalizer<4,>=2 in c:\\users\\prana_lkead1j\\appdata\\local\\programs\\python\\python312\\lib\\site-packages (from requests<3,>=2->langchain-community) (3.4.1)\n",
      "Requirement already satisfied: idna<4,>=2.5 in c:\\users\\prana_lkead1j\\appdata\\local\\programs\\python\\python312\\lib\\site-packages (from requests<3,>=2->langchain-community) (3.10)\n",
      "Requirement already satisfied: urllib3<3,>=1.21.1 in c:\\users\\prana_lkead1j\\appdata\\local\\programs\\python\\python312\\lib\\site-packages (from requests<3,>=2->langchain-community) (2.3.0)\n",
      "Requirement already satisfied: certifi>=2017.4.17 in c:\\users\\prana_lkead1j\\appdata\\local\\programs\\python\\python312\\lib\\site-packages (from requests<3,>=2->langchain-community) (2024.12.14)\n",
      "Requirement already satisfied: greenlet!=0.4.17 in c:\\users\\prana_lkead1j\\appdata\\local\\programs\\python\\python312\\lib\\site-packages (from SQLAlchemy<3,>=1.4->langchain-community) (3.1.1)\n",
      "Requirement already satisfied: soupsieve>1.2 in c:\\users\\prana_lkead1j\\appdata\\local\\programs\\python\\python312\\lib\\site-packages (from beautifulsoup4->wikipedia) (2.6)\n",
      "Requirement already satisfied: anyio in c:\\users\\prana_lkead1j\\appdata\\local\\programs\\python\\python312\\lib\\site-packages (from httpx<1,>=0.23.0->langsmith<0.4,>=0.1.125->langchain-community) (4.8.0)\n",
      "Requirement already satisfied: httpcore==1.* in c:\\users\\prana_lkead1j\\appdata\\local\\programs\\python\\python312\\lib\\site-packages (from httpx<1,>=0.23.0->langsmith<0.4,>=0.1.125->langchain-community) (1.0.7)\n",
      "Requirement already satisfied: h11<0.15,>=0.13 in c:\\users\\prana_lkead1j\\appdata\\local\\programs\\python\\python312\\lib\\site-packages (from httpcore==1.*->httpx<1,>=0.23.0->langsmith<0.4,>=0.1.125->langchain-community) (0.14.0)\n",
      "Requirement already satisfied: jsonpointer>=1.9 in c:\\users\\prana_lkead1j\\appdata\\local\\programs\\python\\python312\\lib\\site-packages (from jsonpatch<2.0,>=1.33->langchain-core<0.4.0,>=0.3.31->langchain-community) (3.0.0)\n",
      "Requirement already satisfied: annotated-types>=0.6.0 in c:\\users\\prana_lkead1j\\appdata\\local\\programs\\python\\python312\\lib\\site-packages (from pydantic<3.0.0,>=2.7.4->langchain<0.4.0,>=0.3.15->langchain-community) (0.7.0)\n",
      "Requirement already satisfied: pydantic-core==2.27.2 in c:\\users\\prana_lkead1j\\appdata\\local\\programs\\python\\python312\\lib\\site-packages (from pydantic<3.0.0,>=2.7.4->langchain<0.4.0,>=0.3.15->langchain-community) (2.27.2)\n",
      "Requirement already satisfied: mypy-extensions>=0.3.0 in c:\\users\\prana_lkead1j\\appdata\\local\\programs\\python\\python312\\lib\\site-packages (from typing-inspect<1,>=0.4.0->dataclasses-json<0.7,>=0.5.7->langchain-community) (1.0.0)\n",
      "Requirement already satisfied: sniffio>=1.1 in c:\\users\\prana_lkead1j\\appdata\\local\\programs\\python\\python312\\lib\\site-packages (from anyio->httpx<1,>=0.23.0->langsmith<0.4,>=0.1.125->langchain-community) (1.3.1)\n",
      "Downloading numexpr-2.10.2-cp312-cp312-win_amd64.whl (145 kB)\n",
      "Installing collected packages: numexpr\n",
      "Successfully installed numexpr-2.10.2\n"
     ]
    },
    {
     "name": "stderr",
     "output_type": "stream",
     "text": [
      "\n",
      "[notice] A new release of pip is available: 24.3.1 -> 25.0\n",
      "[notice] To update, run: python.exe -m pip install --upgrade pip\n"
     ]
    }
   ],
   "source": [
    "!py -m pip install -U langchain-community wikipedia numexpr"
   ]
  },
  {
   "cell_type": "code",
   "execution_count": null,
   "metadata": {},
   "outputs": [
    {
     "name": "stdout",
     "output_type": "stream",
     "text": [
      "\n",
      "\n",
      "\u001b[1m> Entering new AgentExecutor chain...\u001b[0m\n",
      "\u001b[32;1m\u001b[1;3mI should use Wikipedia to find out when Elon Musk was born, and then use Calculator to calculate his age in 1999.\n",
      "Action: wikipedia\n",
      "Action Input: when was elon musk born\u001b[0m\n",
      "Observation: \u001b[36;1m\u001b[1;3mPage: Musk family\n",
      "Summary: The Musk family includes Maye Musk, a model and author; Errol Musk, a businessman and politician; their children Elon Musk, Kimbal Musk, and Tosca Musk, as well as nephew Lyndon Rive. Elon Musk's ex-wives are Justine Musk and Talulah Riley, and he has many children. Maye's father Joshua N. Haldeman was a notable chiropractor, aviator, and politician who was a well known proponent of Technocracy. Geographically, the family has roots in England, Canada, South Africa, and the United States of America.\n",
      "\n",
      "Page: Acquisition of Twitter by Elon Musk\n",
      "Summary: The business magnate Elon Musk initiated an acquisition of American social media company Twitter, Inc. on April 14, 2022, and concluded it on October 27, 2022. Musk had begun buying shares of the company in January 2022, becoming its largest shareholder by April with a 9.1 percent ownership stake. Twitter invited Musk to join its board of directors, an offer he initially accepted before declining. On April 14, Musk made an unsolicited offer to purchase the company, to which Twitter's board responded with a \"poison pill\" strategy to resist a hostile takeover before unanimously accepting Musk's buyout offer of $44 billion on April 25. Musk stated that he planned to introduce new features to the platform, make its algorithms open-source, combat spambot accounts, and promote free speech, framing the acquisition as the cornerstone of X, an \"everything app\".\n",
      "In July, Musk announced his intention to terminate the agreement, asserting that Twitter had breached their agreement by refusing to crack down on spambot accounts. The company filed a lawsuit against Musk in the Delaware Court of Chancery shortly thereafter, with a trial scheduled for the week of October 17. Weeks before the trial was set to begin, Musk reversed course, announcing that he would move forward with the acquisition. The deal was closed on October 28, with Musk immediately becoming Twitter's new owner and CEO. Twitter was taken private and merged into a new parent company named X Corp. Musk promptly fired several top executives, including previous CEO Parag Agrawal. Musk has since proposed several reforms to Twitter and laid off half of the company's workforce. Hundreds of employees then resigned from the company after Musk issued an ultimatum demanding they commit to \"extremely hardcore\" work. Linda Yaccarino was appointed CEO of X Corp. In July 2023, the Twitter service was rebranded as X.\n",
      "Reactions to the buyout were mixed, with praise for Musk's planned reforms and vision for the company, particularly his calls for greater free speech, but criticism over fears of a potential rise in misinformation and disinformation, harassment, and hate speech on the platform. Within the United States, conservatives have largely supported the acquisition, while many liberals and former Twitter employees have voiced concerns about Musk's intentions. Since becoming owner, Musk has faced backlash for his handling of the company and account suspensions, including the December 2022 suspensions of ten journalists.\n",
      "\n",
      "Page: Maye Musk\n",
      "Summary: Maye Musk (née Haldeman; born April 19, 1948) is a model and dietitian. She has been a model for 50 years, appearing on the covers of magazines, including a Time magazine health edition, Women's Day, international editions of Vogue, and Sports Illustrated Swimsuit Issue. She is the mother of Elon Musk, Kimbal Musk and Tosca Musk. She holds Canadian, South African, and American citizenship. She is a registered dietitian and earned two masters degrees in diet and nutrition.\u001b[0m\n",
      "Thought:\u001b[32;1m\u001b[1;3mI should use Calculator to calculate his age in 1999 if I know when he was born.\n",
      "Action: wikipedia\n",
      "Action Input: Elon Musk\u001b[0m\n",
      "Observation: \u001b[36;1m\u001b[1;3mPage: Elon Musk\n",
      "Summary: Elon Reeve Musk (; born June 28, 1971) is a businessman and political figure known for his key roles in the automotive company Tesla, Inc. and the space company SpaceX. Since January 2025, he is serving as Administrator of the Department of Government Efficiency (DOGE), under the second Donald Trump presidential administration of the United States. He is also known for his ownership of X Corp. (the company that operates the social media platform X, formerly Twitter), and his role in the founding of the Boring Company, xAI, Neuralink, and OpenAI. Musk is the wealthiest individual in the world; as of January 2025, Forbes estimates his net worth to be US$427 billion.\n",
      "A member of the wealthy South African Musk family, Musk was born in Pretoria and briefly attended the University of Pretoria. At the age of 18 he immigrated to Canada, acquiring its citizenship through his Canadian-born mother, Maye. Two years later, he matriculated at Queen's University in Canada. Musk later transferred to the University of Pennsylvania and received bachelor's degrees in economics and physics. He moved to California in 1995 to attend Stanford University but never enrolled in classes, and with his brother Kimbal co-founded the online city guide software company Zip2. The startup was acquired by Compaq for $307 million in 1999. That same year, Musk co-founded X.com, a direct bank. X.com merged with Confinity in 2000 to form PayPal. In 2002, Musk acquired United States citizenship, and that October eBay acquired PayPal for $1.5 billion. Using $100 million of the money he made from the sale of PayPal, Musk founded SpaceX, a spaceflight services company, in 2002. \n",
      "In 2004, Musk was an early investor in electric vehicle manufacturer Tesla Motors, Inc. (later Tesla, Inc.), providing most of the initial financing and assuming the position of the company's chairman. He later became the product architect and, in 2008, the CEO. In 2006, Musk helped create SolarCity, a solar energy company that was acquired by Tesla in 2016 and became Tesla Energy. In 2013, he proposed a hyperloop high-speed vactrain transportation system. In 2015, he co-founded OpenAI, a nonprofit artificial intelligence research company. The following year Musk co-founded Neuralink, a neurotechnology company developing brain–computer interfaces, and the Boring Company, a tunnel construction company. In 2018, the U.S. Securities and Exchange Commission (SEC) sued Musk, alleging he falsely announced that he had secured funding for a private takeover of Tesla. To settle the case, Musk stepped down as the chairman of Tesla and paid a $20 million fine. In 2022, he acquired Twitter for $44 billion, merged the company into his newly-created X Corp. and rebranded the service as X the following year. In 2023, Musk founded xAI, an artificial intelligence company.\n",
      "Musk's actions and expressed views have made him a polarizing figure. He has been criticized for making unscientific and misleading statements, including COVID-19 misinformation, affirming antisemitic, homophobic and transphobic comments, and promoting conspiracy theories. His ownership of Twitter has been controversial because of large employee layoffs, an increase in posts containing hate speech, misinformation and disinformation on the service, and changes to service features, including verification. He became active in American politics leading up to the 2024 United States presidential election as a vocal and financial supporter of presidential candidate Donald Trump, becoming the largest political donor in the election. In January 2025, he was appointed as Administrator of DOGE.\n",
      "\n",
      "Page: Views of Elon Musk\n",
      "Summary: Elon Musk is the CEO or owner of multiple companies including Tesla, SpaceX, and X Corp., and has expressed many views on a wide variety of subjects, ranging from politics to science.\n",
      "Musk has often been described as libertarian, but described himself as \"politically moderate\" until 2022. Following the CO\u001b[0m\n",
      "Thought:\u001b[32;1m\u001b[1;3mI now know the final answer\n",
      "Final Answer: Elon Musk was born on June 28, 1971. He was 28 years old in 1999.\u001b[0m\n",
      "\n",
      "\u001b[1m> Finished chain.\u001b[0m\n"
     ]
    },
    {
     "data": {
      "text/plain": [
       "'Elon Musk was born on June 28, 1971. He was 28 years old in 1999.'"
      ]
     },
     "execution_count": 72,
     "metadata": {},
     "output_type": "execute_result"
    }
   ],
   "source": [
    "from langchain.agents import AgentType, initialize_agent, load_tools\n",
    "from langchain_google_genai import ChatGoogleGenerativeAI\n",
    "\n",
    "llm = ChatGoogleGenerativeAI(model=\"gemini-pro\", google_api_key=api_key)\n",
    "tools = load_tools([\"wikipedia\", \"llm-math\"], llm=llm)\n",
    "agent = initialize_agent(tools, llm, agent=AgentType.ZERO_SHOT_REACT_DESCRIPTION, verbose=True) \n",
    "#A ZERO_SHOT_REACT_DESCRIPTION is designed to perform on tasks without having been explicitly trained for them.\n",
    "#They use the LLM to understand or generate a description for the input/query and based on this reacts to the description.\n",
    "#Basically think->thought->react\n",
    "\n",
    "#verbose = True -> prints out all the steps that the LLM goes through to provide the response\n",
    "\n",
    "agent.run(\"When was Elon Musk born? What was his age in 1999?\")\n",
    "\n"
   ]
  },
  {
   "cell_type": "markdown",
   "metadata": {},
   "source": [
    "- In the above reasoning steps, you can see how the wikipedia and math tools are being used along with the LLM's ability to understand and reason the input to generate a response."
   ]
  },
  {
   "cell_type": "markdown",
   "metadata": {},
   "source": [
    "### LangChain and memory Demo\n",
    "- As we discussed during our intro on LangChain, LLMs do not have memory of their own, So if we want to create a context, we will have to pass the previous interactions as an input along with the current input to get an output that takes the context into consideration. Let's see an example how LLM's suffer from short term memory loss. All they can do is answer the current query."
   ]
  },
  {
   "cell_type": "code",
   "execution_count": 79,
   "metadata": {},
   "outputs": [
    {
     "name": "stdout",
     "output_type": "stream",
     "text": [
      "India\n",
      "The context does not mention the name of the captain, so I cannot answer this question from the provided context.\n"
     ]
    }
   ],
   "source": [
    "from langchain_google_genai import ChatGoogleGenerativeAI\n",
    "from langchain.prompts import PromptTemplate\n",
    "from langchain_core.output_parsers import StrOutputParser\n",
    "\n",
    "output_parser = StrOutputParser()\n",
    "\n",
    "llm = ChatGoogleGenerativeAI(model=\"gemini-pro\", google_api_key=api_key)\n",
    "\n",
    "chain = PromptTemplate(template=\"Who won the cricket world cup in 1983?\") | llm | output_parser\n",
    "print(chain.invoke({}))\n",
    "\n",
    "chain = PromptTemplate(template=\"Who was the captain?\") | llm | output_parser\n",
    "print(chain.invoke({}))\n"
   ]
  },
  {
   "cell_type": "markdown",
   "metadata": {},
   "source": [
    "- How to add memory to store the context?"
   ]
  }
 ],
 "metadata": {
  "kernelspec": {
   "display_name": "Python 3",
   "language": "python",
   "name": "python3"
  },
  "language_info": {
   "codemirror_mode": {
    "name": "ipython",
    "version": 3
   },
   "file_extension": ".py",
   "mimetype": "text/x-python",
   "name": "python",
   "nbconvert_exporter": "python",
   "pygments_lexer": "ipython3",
   "version": "3.12.8"
  }
 },
 "nbformat": 4,
 "nbformat_minor": 2
}
