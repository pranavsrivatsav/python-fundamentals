{
 "cells": [
  {
   "cell_type": "markdown",
   "metadata": {},
   "source": [
    "#### CSV Read write operations\n",
    " - We need to import the csv package to perform read and write operations particular to csv files."
   ]
  },
  {
   "cell_type": "code",
   "execution_count": 40,
   "metadata": {},
   "outputs": [],
   "source": [
    "import csv"
   ]
  },
  {
   "cell_type": "markdown",
   "metadata": {},
   "source": [
    "#### Read operations\n",
    "- csv.reader returns us with a csv reader which is an iterator where each iteration is a row.\n",
    "- we can optionally skip the header, by using the next() method, which universally skips an iteration in an iterator entity."
   ]
  },
  {
   "cell_type": "code",
   "execution_count": 41,
   "metadata": {},
   "outputs": [
    {
     "name": "stdout",
     "output_type": "stream",
     "text": [
      "['John', '30', 'New York City']\n",
      "['Matt', '45', 'Los Angeles']\n"
     ]
    }
   ],
   "source": [
    "\n",
    "def read_csv(filePath, skipHeader = True):\n",
    "    with open(filePath, mode=\"r\", newline=None) as file:\n",
    "        csv_reader = csv.reader(file)\n",
    "\n",
    "        if(skipHeader):\n",
    "            next(csv_reader)\n",
    "\n",
    "        for row in csv_reader:\n",
    "            print(row)\n",
    "\n",
    "read_csv(\"output.csv\")\n"
   ]
  },
  {
   "cell_type": "markdown",
   "metadata": {},
   "source": [
    "#### Write operations\n",
    "- There are 2 data structures we can use to write into a csv:\n",
    " - list of lists\n",
    " - list of dictionaries"
   ]
  },
  {
   "cell_type": "markdown",
   "metadata": {},
   "source": [
    "##### Write using list of lists\n",
    "- data is provided as a list of lists including the header as the first list."
   ]
  },
  {
   "cell_type": "code",
   "execution_count": 42,
   "metadata": {},
   "outputs": [
    {
     "name": "stdout",
     "output_type": "stream",
     "text": [
      "[]\n",
      "['John', '30', 'New York City']\n",
      "[]\n",
      "['Matt', '45', 'Los Angeles']\n",
      "[]\n"
     ]
    }
   ],
   "source": [
    "# Writing into csv using list of lists\n",
    "filePath = \"output.csv\"\n",
    "data = [\n",
    "    [\"Name\",\"Age\",\"City\"],\n",
    "    [\"John\", 30, \"New York City\"],\n",
    "    [\"Matt\", 45, \"Los Angeles\"]\n",
    "]\n",
    "\n",
    "def write_csv_list(dataList, filePath, newline = None):\n",
    "    with open(filePath, mode='w', newline=newline) as file:\n",
    "        csv_writer = csv.writer(file)\n",
    "        csv_writer.writerows(dataList)\n",
    "\n",
    "#Note: make sure all the editors having the csv file open is closed before writing into csv\n",
    "#our program wont get access to the file\n",
    "write_csv_list(data, filePath)\n",
    "read_csv(filePath)\n"
   ]
  },
  {
   "cell_type": "markdown",
   "metadata": {},
   "source": [
    "- Now as we read the files post inserting, we will notice that there is an empty line after each inserted row. We can check that by reading the csv again, this is platform dependent, and you have high probability of this behavior in windows platform.\n",
    "- We can eliminate this behavior by setting the newline parameter in the open method as ''."
   ]
  },
  {
   "cell_type": "code",
   "execution_count": 43,
   "metadata": {},
   "outputs": [
    {
     "name": "stdout",
     "output_type": "stream",
     "text": [
      "['John', '30', 'New York City']\n",
      "['Matt', '45', 'Los Angeles']\n"
     ]
    }
   ],
   "source": [
    "write_csv_list(data, filePath, '') #setting newline parameter as '' using our function\n",
    "read_csv(filePath)"
   ]
  },
  {
   "cell_type": "markdown",
   "metadata": {},
   "source": [
    "##### Write using list of dictionaries\n",
    "- data is provided as a list of dictionaries, which are the rows of data excluding header.\n",
    "- the writer needs to be initialized by list of fieldnames"
   ]
  },
  {
   "cell_type": "code",
   "execution_count": 44,
   "metadata": {},
   "outputs": [
    {
     "name": "stdout",
     "output_type": "stream",
     "text": [
      "['Name', 'Age', 'City']\n",
      "['Matt', '46', 'Las Vegas']\n",
      "['John', '30', 'Port Elizabeth']\n"
     ]
    }
   ],
   "source": [
    "# Writing into csv using list of dictionaries\n",
    "filePath = \"outputdict.csv\"\n",
    "data2 = [\n",
    "    {\"Name\": \"Matt\", \"Age\": 46, \"City\": \"Las Vegas\"},\n",
    "    {\"Name\": \"John\", \"Age\": 30, \"City\": \"Port Elizabeth\"},\n",
    "]\n",
    "fieldNames = [\"Name\", \"Age\", \"City\"]\n",
    "\n",
    "def write_csv_dictionaries(data, fieldNames, filePath, newline):\n",
    "    with open(filePath, mode='w', newline='') as file:\n",
    "        \n",
    "        csv_dict_writer = csv.DictWriter(f = file, fieldnames=fieldNames)\n",
    "\n",
    "        csv_dict_writer.writeheader()\n",
    "        csv_dict_writer.writerows(data)\n",
    "\n",
    "write_csv_dictionaries(data=data2, fieldNames=fieldNames, filePath=filePath, newline='')\n",
    "read_csv(filePath, False)"
   ]
  },
  {
   "cell_type": "markdown",
   "metadata": {},
   "source": [
    "#### Manipulation of rows\n",
    "- Appending a row\n",
    "- Manipulating a row\n",
    "- Deleting a row"
   ]
  },
  {
   "cell_type": "markdown",
   "metadata": {},
   "source": [
    "##### Appending a row\n",
    "- use the mode 'a' while opening the file\n",
    "- and use the csv writer to write into the file"
   ]
  },
  {
   "cell_type": "markdown",
   "metadata": {},
   "source": [
    "##### Manipulating a row\n",
    "- create a new file operation block using with mode 'r'\n",
    "    - Obtain a reader pointer using csv reader function\n",
    "    - convert the reader pointer into a list\n",
    "    - loop through the list and target and manipulate rows conditionally.\n",
    "    - end of block\n",
    "- create a new file operation block using with mode 'w'\n",
    "    - using the obtained list, in the above block, overwrite the file using a csv writer\n"
   ]
  },
  {
   "cell_type": "markdown",
   "metadata": {},
   "source": [
    "##### Deleting a row\n",
    "- similar to manipulating a row, here we filter out rows conditionally and create a list.\n",
    "- using the new list, we overwrite the file"
   ]
  }
 ],
 "metadata": {
  "kernelspec": {
   "display_name": "Python 3",
   "language": "python",
   "name": "python3"
  },
  "language_info": {
   "codemirror_mode": {
    "name": "ipython",
    "version": 3
   },
   "file_extension": ".py",
   "mimetype": "text/x-python",
   "name": "python",
   "nbconvert_exporter": "python",
   "pygments_lexer": "ipython3",
   "version": "3.12.8"
  }
 },
 "nbformat": 4,
 "nbformat_minor": 2
}
