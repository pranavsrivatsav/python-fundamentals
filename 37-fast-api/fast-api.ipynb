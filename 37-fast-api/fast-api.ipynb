{
 "cells": [
  {
   "cell_type": "markdown",
   "metadata": {},
   "source": [
    "### Fast API\n",
    "- Fast API is a lightweight library that can be used to create REST APIs using python.\n",
    "- Since it is a lightweight library, it does not have implementation to serve the project. So for serving the project, another library named uvicorn is used.\n",
    "\n",
    "#### Dependencies installation and setup\n",
    "- fastapi\n",
    "- uvicorn\n",
    "\n",
    "`py -m pip install fastapi uvicorn`\n"
   ]
  },
  {
   "cell_type": "markdown",
   "metadata": {},
   "source": [
    "#### creating our first endpoint"
   ]
  },
  {
   "cell_type": "code",
   "execution_count": 21,
   "metadata": {},
   "outputs": [],
   "source": [
    "\n",
    "from fastapi import FastAPI\n",
    "\n",
    "app = FastAPI() #Create a fast api object\n",
    "\n",
    "#creating a get endpoint\n",
    "@app.get(\"/\")\n",
    "def index():\n",
    "    return {\"Hello\":\"World\"}"
   ]
  },
  {
   "cell_type": "markdown",
   "metadata": {},
   "source": [
    "#### Run the project\n",
    "- To run the project, we need to use uvicorn with the command `py -m uvicorn <file-name> <fast-api-object-name>`\n",
    "![alt text](Screenshot%202025-01-21%20171645.png)\n",
    "- Now copy the host address and enter into the browser. We'll see the output in json format.\n",
    "![image.png](Screenshot%202025-01-21%20171910.png)\n",
    "- we can access swagger API docs by accessing `<server-host>/docs`\n",
    "![image-2.png](Screenshot%202025-01-21%20174230.png)"
   ]
  },
  {
   "cell_type": "markdown",
   "metadata": {},
   "source": [
    "#### End point parameters:\n"
   ]
  },
  {
   "cell_type": "markdown",
   "metadata": {},
   "source": [
    "##### Path parameters\n"
   ]
  },
  {
   "cell_type": "code",
   "execution_count": 22,
   "metadata": {},
   "outputs": [],
   "source": [
    "students = [\n",
    "    {\"student_id\": 1, \"name\": \"Alice\", \"age\": 20},\n",
    "    {\"student_id\": 2, \"name\": \"Bob\", \"age\": 21},\n",
    "    {\"student_id\": 3, \"name\": \"Charlie\", \"age\": 22},\n",
    "    {\"student_id\": 4, \"name\": \"David\", \"age\": 23},\n",
    "    {\"student_id\": 5, \"name\": \"Eve\", \"age\": 24}\n",
    "]\n",
    "\n",
    "#path parameter endpoint example\n",
    "@app.get(\"/getStudent/{student_id}\")\n",
    "def getStudentById(student_id): \n",
    "    return students[int(student_id) -1]"
   ]
  },
  {
   "cell_type": "markdown",
   "metadata": {},
   "source": [
    "![alt text](<Screenshot 2025-01-21 174608.png>)"
   ]
  },
  {
   "cell_type": "markdown",
   "metadata": {},
   "source": [
    "- We can further add validations\n",
    "    - data type\n",
    "    - error message\n",
    "    - for integer parameters validations like gt, lt, ge etc."
   ]
  },
  {
   "cell_type": "code",
   "execution_count": 23,
   "metadata": {},
   "outputs": [],
   "source": [
    "from fastapi import Path\n",
    "\n",
    "# path parameter endpoint example\n",
    "@app.get(\"/getStudent/{student_id}\")\n",
    "def getStudentById(\n",
    "    student_id: int = Path(description=\"Student ID is Mandatory\", lt=5, gt=0)\n",
    "):\n",
    "    return students[int(student_id) - 1]"
   ]
  },
  {
   "cell_type": "markdown",
   "metadata": {},
   "source": [
    "![alt text](image.png)"
   ]
  },
  {
   "cell_type": "markdown",
   "metadata": {},
   "source": [
    "- A simulation of basic CRUD operation is present at myapi.py, please go through the code and run it for understanding on further basics of creating CRUD APIs with FAST API"
   ]
  }
 ],
 "metadata": {
  "kernelspec": {
   "display_name": "Python 3",
   "language": "python",
   "name": "python3"
  },
  "language_info": {
   "codemirror_mode": {
    "name": "ipython",
    "version": 3
   },
   "file_extension": ".py",
   "mimetype": "text/x-python",
   "name": "python",
   "nbconvert_exporter": "python",
   "pygments_lexer": "ipython3",
   "version": "3.12.8"
  }
 },
 "nbformat": 4,
 "nbformat_minor": 2
}
