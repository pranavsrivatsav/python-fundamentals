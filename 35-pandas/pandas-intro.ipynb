{
 "cells": [
  {
   "cell_type": "markdown",
   "metadata": {},
   "source": [
    "### Pandas\n",
    "\n",
    "#### Introduction:\n",
    "\n",
    "- What is Pandas?\n",
    "  - It is a library built on top of numpy, that is used to work on structured data.\n",
    "  - It can handle a wide variety of structured data formats like csv, excel, sql databases etc.\n",
    "  - On top of data manipulation, it is helpful in operations like data cleaning, filtering, grouping and more.\n",
    "  - The above operations make it an important tool for data preparation, post which this cleaned data can used to train AI.\n",
    "\n",
    "- What are the two fundamental data structures provided by pandas?\n",
    "  - **DataFrame**: A 2D size mutable tabular array with labeled axes (i.e labeled rows and columns), similar to an excel table.\n",
    "  - **Series**: A labeled 1D array"
   ]
  },
  {
   "cell_type": "markdown",
   "metadata": {},
   "source": [
    "#### Installation and setup\n",
    "- Install pandas library using the command `py -m pip install pandas`\n",
    "- Then import pandas into the python program\n"
   ]
  },
  {
   "cell_type": "code",
   "execution_count": 96,
   "metadata": {},
   "outputs": [
    {
     "name": "stdout",
     "output_type": "stream",
     "text": [
      "2.2.3\n"
     ]
    }
   ],
   "source": [
    "import pandas as pd\n",
    "print(pd.__version__)"
   ]
  },
  {
   "cell_type": "markdown",
   "metadata": {},
   "source": [
    "#### Creating a Series\n",
    "- A series is nothing but a labeled 1 dimensional array.\n",
    "- It is created using the `Series` constructor.  \n",
    "- we can create it using a **list** or a **dictionary**.\n"
   ]
  },
  {
   "cell_type": "markdown",
   "metadata": {},
   "source": [
    "- Example of series creation using list"
   ]
  },
  {
   "cell_type": "code",
   "execution_count": 97,
   "metadata": {},
   "outputs": [
    {
     "name": "stdout",
     "output_type": "stream",
     "text": [
      "0    10\n",
      "1    20\n",
      "2    30\n",
      "3    40\n",
      "dtype: int64\n"
     ]
    }
   ],
   "source": [
    "list1 = [10, 20, 30, 40]\n",
    "s1 = pd.Series(list1)\n",
    "print(s1)"
   ]
  },
  {
   "cell_type": "markdown",
   "metadata": {},
   "source": [
    "\n",
    "- Example of series creation using list with custom indices (i.e labels)\n"
   ]
  },
  {
   "cell_type": "code",
   "execution_count": 98,
   "metadata": {},
   "outputs": [
    {
     "name": "stdout",
     "output_type": "stream",
     "text": [
      "a    10\n",
      "b    20\n",
      "c    30\n",
      "d    40\n",
      "dtype: int64\n"
     ]
    }
   ],
   "source": [
    "s2 = pd.Series(list1, ['a','b','c','d'])\n",
    "print(s2)"
   ]
  },
  {
   "cell_type": "markdown",
   "metadata": {},
   "source": [
    "- Example of series creation using dictionaries (the keys will be the indices of the created series)"
   ]
  },
  {
   "cell_type": "code",
   "execution_count": 99,
   "metadata": {},
   "outputs": [
    {
     "name": "stdout",
     "output_type": "stream",
     "text": [
      "a    10\n",
      "b    20\n",
      "c    30\n",
      "d    40\n",
      "dtype: int64\n"
     ]
    }
   ],
   "source": [
    "dict1 = {\n",
    "  'a': 10,\n",
    "  'b': 20,\n",
    "  'c': 30,\n",
    "  'd': 40\n",
    "}\n",
    "s3 = pd.Series(dict1)\n",
    "print(s3)"
   ]
  },
  {
   "cell_type": "markdown",
   "metadata": {},
   "source": [
    "##### Accessing elements in a series\n"
   ]
  },
  {
   "cell_type": "code",
   "execution_count": 100,
   "metadata": {},
   "outputs": [
    {
     "name": "stdout",
     "output_type": "stream",
     "text": [
      "10\n"
     ]
    }
   ],
   "source": [
    "print(s3['a'])"
   ]
  },
  {
   "cell_type": "markdown",
   "metadata": {},
   "source": [
    "##### Slicing elements in a series\n",
    "  - For slicing we can just use the order index"
   ]
  },
  {
   "cell_type": "code",
   "execution_count": 101,
   "metadata": {},
   "outputs": [
    {
     "name": "stdout",
     "output_type": "stream",
     "text": [
      "a    10\n",
      "b    20\n",
      "c    30\n",
      "d    40\n",
      "dtype: int64\n",
      "b    20\n",
      "c    30\n",
      "dtype: int64\n"
     ]
    }
   ],
   "source": [
    "print(s3)\n",
    "print(s3[1:3])"
   ]
  },
  {
   "cell_type": "markdown",
   "metadata": {},
   "source": [
    " \n",
    "#### Creating a DataFrame\n",
    "- A data frame is a 2D array with labeled axes (i.e labeled rows and columns similar to a spreadsheet).\n",
    "- We can create a DataFrame using\n",
    "  1. Dictionary of lists\n",
    "  2. Numpy array\n",
    "  3. External structured data like csv, excel etc.\n"
   ]
  },
  {
   "cell_type": "markdown",
   "metadata": {},
   "source": [
    "\n",
    "- Example of creating a DataFrame using a dictionary of lists\n"
   ]
  },
  {
   "cell_type": "code",
   "execution_count": 102,
   "metadata": {},
   "outputs": [
    {
     "name": "stdout",
     "output_type": "stream",
     "text": [
      "   Name  Age\n",
      "0  Matt   34\n",
      "1  John   45\n",
      "2   Kat   22\n",
      "    Name  Age\n",
      "p1  Matt   34\n",
      "p2  John   45\n",
      "p3   Kat   22\n",
      "      Name  Age\n",
      "per1  Matt   34\n",
      "per2  John   45\n",
      "per3   Kat   22\n"
     ]
    }
   ],
   "source": [
    "# While using a dictionary, each key acts as a column name\n",
    "data = {\n",
    "  \"Name\": [\"Matt\", \"John\", \"Kat\"],\n",
    "  \"Age\": [34,45,22]\n",
    "}\n",
    "\n",
    "df1 = pd.DataFrame(data)\n",
    "print(df1)\n",
    "\n",
    "#row labels are optional, by default pandas assigns an ordered index as row label (0,1 and so on)\n",
    "#but we can provide them using the index argument\n",
    "df1 = pd.DataFrame(data, index=[\"p1\",\"p2\",\"p3\"])\n",
    "print(df1)\n",
    "\n",
    "#we can also set the row names by assigning the index attribute of the created dataframe\n",
    "df1.index = [\"per1\",\"per2\",\"per3\"]\n",
    "print(df1)"
   ]
  },
  {
   "cell_type": "markdown",
   "metadata": {},
   "source": [
    "- Example of creating a DataFrame using a numpy array"
   ]
  }
 ],
 "metadata": {
  "kernelspec": {
   "display_name": "Python 3",
   "language": "python",
   "name": "python3"
  },
  "language_info": {
   "codemirror_mode": {
    "name": "ipython",
    "version": 3
   },
   "file_extension": ".py",
   "mimetype": "text/x-python",
   "name": "python",
   "nbconvert_exporter": "python",
   "pygments_lexer": "ipython3",
   "version": "3.12.8"
  }
 },
 "nbformat": 4,
 "nbformat_minor": 2
}
