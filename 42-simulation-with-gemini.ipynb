{
 "cells": [
  {
   "cell_type": "code",
   "execution_count": 1,
   "metadata": {},
   "outputs": [],
   "source": [
    "!pip install -q -U google-generativeai\n"
   ]
  },
  {
   "cell_type": "code",
   "execution_count": null,
   "metadata": {},
   "outputs": [
    {
     "data": {
      "text/plain": [
       "\"Clementine, a tortoiseshell with eyes like melted butterscotch, lived a life of predictable luxury.  Sunbeams on the Persian rug, gourmet salmon pâté, and endless naps in the warmest spots of the house.  But Clementine craved adventure, a feeling she only glimpsed in the blurry images flickering on the television screen.\\n\\nOne blustery Tuesday, the opportunity presented itself. The back door, usually firmly shut, was ajar. A gust of wind, smelling of pine needles and damp earth, whipped through the kitchen.  This wasn't just a breeze; this was a siren's call.\\n\\nClementine slipped out, her sleek fur ruffling in the wind. The garden, usually a well-manicured boredom, transformed into a jungle.  Towering hedges became emerald mountains, the bird bath a shimmering lake. A fat bumblebee, buzzing loudly, seemed a fearsome dragon.  She stalked it, crouched low, tiny claws extended, before losing interest and chasing a flitting butterfly instead.\\n\\nHer adventure took her beyond the garden, into the sprawling park across the street.  Here, she encountered a gang of alley cats, sleek and scarred veterans of untold battles.  They eyed her with suspicion, their green and yellow eyes glittering.  Clementine, however, held her ground, a regal tortoiseshell amongst scruffy commoners.\\n\\nA magnificent ginger tomcat, scarred but undeniably regal, approached.  He introduced himself as Rufus, and recounted tales of daring escapades – daring escapes from dogs, daring raids on overflowing bins, daring naps in sun-drenched window boxes.  Clementine listened, mesmerized.\\n\\nSuddenly, a ferocious barking erupted. A large, slobbery dog, its tongue lolling, charged towards them.  Rufus, surprisingly nimble for his size, scrambled up a tree. Clementine, fueled by adrenaline and a surprising burst of bravery, darted behind a large oak, her heart hammering.\\n\\nThe commotion attracted the attention of a kind old woman who shooed away the dog. She spotted Clementine, looking slightly disheveled but triumphant.  She scooped her up, stroking her soft fur.\\n\\nClementine, nestled in the woman’s arms, felt a profound contentment.  She’d faced a dragon (a bumblebee), a gang of ruffians (the alley cats), and a monstrous beast (the dog).  She'd had her adventure. And now, warmed by the kind old woman’s touch, she was ready for the predictable luxury of home, the memory of her daring escapade tucked safely in her heart.  The salmon pâté suddenly seemed even more delicious.\\n\""
      ]
     },
     "metadata": {},
     "output_type": "display_data"
    }
   ],
   "source": [
    "\n",
    "import google.generativeai as genai\n",
    "\n",
    "# Replace with your actual API key\n",
    "genai.configure(api_key=\"private-api-key\")\n",
    "\n",
    "# Select the Gemini model\n",
    "model = genai.GenerativeModel(\"gemini-1.5-flash\") \n",
    "\n",
    "# Prompt for the model\n",
    "prompt = \"Write a short story about a cat who goes on an adventure.\"\n",
    "\n",
    "# Generate content\n",
    "response = model.generate_content(prompt)\n",
    "\n",
    "display(response.text)"
   ]
  }
 ],
 "metadata": {
  "kernelspec": {
   "display_name": "Python 3",
   "language": "python",
   "name": "python3"
  },
  "language_info": {
   "codemirror_mode": {
    "name": "ipython",
    "version": 3
   },
   "file_extension": ".py",
   "mimetype": "text/x-python",
   "name": "python",
   "nbconvert_exporter": "python",
   "pygments_lexer": "ipython3",
   "version": "3.12.8"
  }
 },
 "nbformat": 4,
 "nbformat_minor": 2
}
